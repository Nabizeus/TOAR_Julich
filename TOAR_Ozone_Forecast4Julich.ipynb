{
  "cells": [
    {
      "cell_type": "markdown",
      "metadata": {
        "id": "view-in-github",
        "colab_type": "text"
      },
      "source": [
        "<a href=\"https://colab.research.google.com/github/Nabizeus/TOAR_Julich/blob/main/TOAR_Ozone_Forecast4Julich.ipynb\" target=\"_parent\"><img src=\"https://colab.research.google.com/assets/colab-badge.svg\" alt=\"Open In Colab\"/></a>"
      ]
    },
    {
      "cell_type": "markdown",
      "metadata": {
        "tags": [],
        "id": "vEcmNvugBhx0"
      },
      "source": [
        "# **Getting started with TOAR-II data**[<img style=\"float: right;\" src=\"2022-02-Logo-TOAR-DataBase.png\" alt=\"\" width=\"200\"/>](2022-02-Logo-TOAR-DataBase.png)\n",
        "(by Niklas Selke and Sabine Schröder)"
      ],
      "id": "vEcmNvugBhx0"
    },
    {
      "cell_type": "markdown",
      "metadata": {
        "id": "mFEn7BZOBhx2"
      },
      "source": [
        "___"
      ],
      "id": "mFEn7BZOBhx2"
    },
    {
      "cell_type": "markdown",
      "source": [],
      "metadata": {
        "id": "m-eAk2Tn6bPw"
      },
      "id": "m-eAk2Tn6bPw"
    },
    {
      "cell_type": "markdown",
      "metadata": {
        "id": "n0quNf4HBhx2"
      },
      "source": [
        "**This Python notebook follows the examples from the [TOAR Quick Start Guide](https://toar-data.fz-juelich.de/sphinx/TOAR_UG_Vol02_Quick_Start/build/html/examples.html).**"
      ],
      "id": "n0quNf4HBhx2"
    },
    {
      "cell_type": "markdown",
      "metadata": {
        "id": "z-SpWqenBhx3"
      },
      "source": [
        "## **Set up kernel (only needed the very first time)**\n",
        "When you execute the notebook for the very first time please go to the next cell and press **y** to enable the cell.\n",
        "After that, press **Ctrl+Enter** to execute the cell (takes about a minute).\n",
        "Finally, after execution has finished, disable the cell again by pressing **r**. We do not need this cell again.\n",
        "\n",
        "For all notebooks please choose the **TOARWorkshop** kernel in the top right corner which is now available."
      ],
      "id": "z-SpWqenBhx3"
    },
    {
      "cell_type": "raw",
      "metadata": {
        "id": "tM9KfjksBhx4"
      },
      "source": [
        "!bash setup_kernel.sh"
      ],
      "id": "tM9KfjksBhx4"
    },
    {
      "cell_type": "markdown",
      "metadata": {
        "id": "0g2X4BsEBhx4"
      },
      "source": [
        "## Import Python packages"
      ],
      "id": "0g2X4BsEBhx4"
    },
    {
      "cell_type": "code",
      "execution_count": 1,
      "metadata": {
        "id": "_LRYLOlRBhx5"
      },
      "outputs": [],
      "source": [
        "from io import StringIO\n",
        "import json\n",
        "import pprint as pp\n",
        "\n",
        "import matplotlib.pyplot as plt\n",
        "%matplotlib inline\n",
        "import pandas as pd\n",
        "import requests"
      ],
      "id": "_LRYLOlRBhx5"
    },
    {
      "cell_type": "markdown",
      "metadata": {
        "id": "Lzub1iLhBhx6"
      },
      "source": [
        "**[StringIO](https://docs.python.org/3/library/io.html#io.StringIO)**: creates a file-like object from a simple string\n",
        "**[json](https://docs.python.org/3/library/json.html)**: module for processing JSON formatted files and strings\n",
        "**[pprint](https://docs.python.org/3/library/pprint.html)**: module for formatted print outputs (see also [pprint.ipynb](pprint.ipynb))\n",
        "**[matplotlib](https://matplotlib.org/)**: package for plotting\n",
        "**[pandas](https://pandas.pydata.org/)**: package for data analysis and manipulation\n",
        "**[requests](https://requests.readthedocs.io)**: package for sending HTTPS requests"
      ],
      "id": "Lzub1iLhBhx6"
    },
    {
      "cell_type": "markdown",
      "metadata": {
        "id": "n0cZVzzkBhx7"
      },
      "source": [
        "### 1. Find stations by country\n",
        "\n",
        "The TOAR-II database stores all countries in [ISO-3166 ALPHA-2 codes](https://en.wikipedia.org/wiki/ISO_3166-1#Current_codes).\n",
        "To search for all stations of a specific country, you use the argument _country_ and its ALPHA-2 code."
      ],
      "id": "n0cZVzzkBhx7"
    },
    {
      "cell_type": "code",
      "execution_count": 2,
      "metadata": {
        "tags": [],
        "colab": {
          "base_uri": "https://localhost:8080/",
          "height": 520
        },
        "id": "oLxrqtW0Bhx8",
        "outputId": "53c4cd81-f9b4-48bb-b55c-e8c408c5ff1f"
      },
      "outputs": [
        {
          "output_type": "error",
          "ename": "ReadTimeout",
          "evalue": "ignored",
          "traceback": [
            "\u001b[0;31m---------------------------------------------------------------------------\u001b[0m",
            "\u001b[0;31mTimeoutError\u001b[0m                              Traceback (most recent call last)",
            "\u001b[0;32m/usr/local/lib/python3.10/dist-packages/urllib3/connectionpool.py\u001b[0m in \u001b[0;36m_make_request\u001b[0;34m(self, conn, method, url, timeout, chunked, **httplib_request_kw)\u001b[0m\n\u001b[1;32m    448\u001b[0m                     \u001b[0;31m# Otherwise it looks like a bug in the code.\u001b[0m\u001b[0;34m\u001b[0m\u001b[0;34m\u001b[0m\u001b[0m\n\u001b[0;32m--> 449\u001b[0;31m                     \u001b[0msix\u001b[0m\u001b[0;34m.\u001b[0m\u001b[0mraise_from\u001b[0m\u001b[0;34m(\u001b[0m\u001b[0me\u001b[0m\u001b[0;34m,\u001b[0m \u001b[0;32mNone\u001b[0m\u001b[0;34m)\u001b[0m\u001b[0;34m\u001b[0m\u001b[0;34m\u001b[0m\u001b[0m\n\u001b[0m\u001b[1;32m    450\u001b[0m         \u001b[0;32mexcept\u001b[0m \u001b[0;34m(\u001b[0m\u001b[0mSocketTimeout\u001b[0m\u001b[0;34m,\u001b[0m \u001b[0mBaseSSLError\u001b[0m\u001b[0;34m,\u001b[0m \u001b[0mSocketError\u001b[0m\u001b[0;34m)\u001b[0m \u001b[0;32mas\u001b[0m \u001b[0me\u001b[0m\u001b[0;34m:\u001b[0m\u001b[0;34m\u001b[0m\u001b[0;34m\u001b[0m\u001b[0m\n",
            "\u001b[0;32m/usr/local/lib/python3.10/dist-packages/urllib3/packages/six.py\u001b[0m in \u001b[0;36mraise_from\u001b[0;34m(value, from_value)\u001b[0m\n",
            "\u001b[0;32m/usr/local/lib/python3.10/dist-packages/urllib3/connectionpool.py\u001b[0m in \u001b[0;36m_make_request\u001b[0;34m(self, conn, method, url, timeout, chunked, **httplib_request_kw)\u001b[0m\n\u001b[1;32m    443\u001b[0m                 \u001b[0;32mtry\u001b[0m\u001b[0;34m:\u001b[0m\u001b[0;34m\u001b[0m\u001b[0;34m\u001b[0m\u001b[0m\n\u001b[0;32m--> 444\u001b[0;31m                     \u001b[0mhttplib_response\u001b[0m \u001b[0;34m=\u001b[0m \u001b[0mconn\u001b[0m\u001b[0;34m.\u001b[0m\u001b[0mgetresponse\u001b[0m\u001b[0;34m(\u001b[0m\u001b[0;34m)\u001b[0m\u001b[0;34m\u001b[0m\u001b[0;34m\u001b[0m\u001b[0m\n\u001b[0m\u001b[1;32m    445\u001b[0m                 \u001b[0;32mexcept\u001b[0m \u001b[0mBaseException\u001b[0m \u001b[0;32mas\u001b[0m \u001b[0me\u001b[0m\u001b[0;34m:\u001b[0m\u001b[0;34m\u001b[0m\u001b[0;34m\u001b[0m\u001b[0m\n",
            "\u001b[0;32m/usr/lib/python3.10/http/client.py\u001b[0m in \u001b[0;36mgetresponse\u001b[0;34m(self)\u001b[0m\n\u001b[1;32m   1374\u001b[0m             \u001b[0;32mtry\u001b[0m\u001b[0;34m:\u001b[0m\u001b[0;34m\u001b[0m\u001b[0;34m\u001b[0m\u001b[0m\n\u001b[0;32m-> 1375\u001b[0;31m                 \u001b[0mresponse\u001b[0m\u001b[0;34m.\u001b[0m\u001b[0mbegin\u001b[0m\u001b[0;34m(\u001b[0m\u001b[0;34m)\u001b[0m\u001b[0;34m\u001b[0m\u001b[0;34m\u001b[0m\u001b[0m\n\u001b[0m\u001b[1;32m   1376\u001b[0m             \u001b[0;32mexcept\u001b[0m \u001b[0mConnectionError\u001b[0m\u001b[0;34m:\u001b[0m\u001b[0;34m\u001b[0m\u001b[0;34m\u001b[0m\u001b[0m\n",
            "\u001b[0;32m/usr/lib/python3.10/http/client.py\u001b[0m in \u001b[0;36mbegin\u001b[0;34m(self)\u001b[0m\n\u001b[1;32m    317\u001b[0m         \u001b[0;32mwhile\u001b[0m \u001b[0;32mTrue\u001b[0m\u001b[0;34m:\u001b[0m\u001b[0;34m\u001b[0m\u001b[0;34m\u001b[0m\u001b[0m\n\u001b[0;32m--> 318\u001b[0;31m             \u001b[0mversion\u001b[0m\u001b[0;34m,\u001b[0m \u001b[0mstatus\u001b[0m\u001b[0;34m,\u001b[0m \u001b[0mreason\u001b[0m \u001b[0;34m=\u001b[0m \u001b[0mself\u001b[0m\u001b[0;34m.\u001b[0m\u001b[0m_read_status\u001b[0m\u001b[0;34m(\u001b[0m\u001b[0;34m)\u001b[0m\u001b[0;34m\u001b[0m\u001b[0;34m\u001b[0m\u001b[0m\n\u001b[0m\u001b[1;32m    319\u001b[0m             \u001b[0;32mif\u001b[0m \u001b[0mstatus\u001b[0m \u001b[0;34m!=\u001b[0m \u001b[0mCONTINUE\u001b[0m\u001b[0;34m:\u001b[0m\u001b[0;34m\u001b[0m\u001b[0;34m\u001b[0m\u001b[0m\n",
            "\u001b[0;32m/usr/lib/python3.10/http/client.py\u001b[0m in \u001b[0;36m_read_status\u001b[0;34m(self)\u001b[0m\n\u001b[1;32m    278\u001b[0m     \u001b[0;32mdef\u001b[0m \u001b[0m_read_status\u001b[0m\u001b[0;34m(\u001b[0m\u001b[0mself\u001b[0m\u001b[0;34m)\u001b[0m\u001b[0;34m:\u001b[0m\u001b[0;34m\u001b[0m\u001b[0;34m\u001b[0m\u001b[0m\n\u001b[0;32m--> 279\u001b[0;31m         \u001b[0mline\u001b[0m \u001b[0;34m=\u001b[0m \u001b[0mstr\u001b[0m\u001b[0;34m(\u001b[0m\u001b[0mself\u001b[0m\u001b[0;34m.\u001b[0m\u001b[0mfp\u001b[0m\u001b[0;34m.\u001b[0m\u001b[0mreadline\u001b[0m\u001b[0;34m(\u001b[0m\u001b[0m_MAXLINE\u001b[0m \u001b[0;34m+\u001b[0m \u001b[0;36m1\u001b[0m\u001b[0;34m)\u001b[0m\u001b[0;34m,\u001b[0m \u001b[0;34m\"iso-8859-1\"\u001b[0m\u001b[0;34m)\u001b[0m\u001b[0;34m\u001b[0m\u001b[0;34m\u001b[0m\u001b[0m\n\u001b[0m\u001b[1;32m    280\u001b[0m         \u001b[0;32mif\u001b[0m \u001b[0mlen\u001b[0m\u001b[0;34m(\u001b[0m\u001b[0mline\u001b[0m\u001b[0;34m)\u001b[0m \u001b[0;34m>\u001b[0m \u001b[0m_MAXLINE\u001b[0m\u001b[0;34m:\u001b[0m\u001b[0;34m\u001b[0m\u001b[0;34m\u001b[0m\u001b[0m\n",
            "\u001b[0;32m/usr/lib/python3.10/socket.py\u001b[0m in \u001b[0;36mreadinto\u001b[0;34m(self, b)\u001b[0m\n\u001b[1;32m    704\u001b[0m             \u001b[0;32mtry\u001b[0m\u001b[0;34m:\u001b[0m\u001b[0;34m\u001b[0m\u001b[0;34m\u001b[0m\u001b[0m\n\u001b[0;32m--> 705\u001b[0;31m                 \u001b[0;32mreturn\u001b[0m \u001b[0mself\u001b[0m\u001b[0;34m.\u001b[0m\u001b[0m_sock\u001b[0m\u001b[0;34m.\u001b[0m\u001b[0mrecv_into\u001b[0m\u001b[0;34m(\u001b[0m\u001b[0mb\u001b[0m\u001b[0;34m)\u001b[0m\u001b[0;34m\u001b[0m\u001b[0;34m\u001b[0m\u001b[0m\n\u001b[0m\u001b[1;32m    706\u001b[0m             \u001b[0;32mexcept\u001b[0m \u001b[0mtimeout\u001b[0m\u001b[0;34m:\u001b[0m\u001b[0;34m\u001b[0m\u001b[0;34m\u001b[0m\u001b[0m\n",
            "\u001b[0;32m/usr/lib/python3.10/ssl.py\u001b[0m in \u001b[0;36mrecv_into\u001b[0;34m(self, buffer, nbytes, flags)\u001b[0m\n\u001b[1;32m   1273\u001b[0m                   self.__class__)\n\u001b[0;32m-> 1274\u001b[0;31m             \u001b[0;32mreturn\u001b[0m \u001b[0mself\u001b[0m\u001b[0;34m.\u001b[0m\u001b[0mread\u001b[0m\u001b[0;34m(\u001b[0m\u001b[0mnbytes\u001b[0m\u001b[0;34m,\u001b[0m \u001b[0mbuffer\u001b[0m\u001b[0;34m)\u001b[0m\u001b[0;34m\u001b[0m\u001b[0;34m\u001b[0m\u001b[0m\n\u001b[0m\u001b[1;32m   1275\u001b[0m         \u001b[0;32melse\u001b[0m\u001b[0;34m:\u001b[0m\u001b[0;34m\u001b[0m\u001b[0;34m\u001b[0m\u001b[0m\n",
            "\u001b[0;32m/usr/lib/python3.10/ssl.py\u001b[0m in \u001b[0;36mread\u001b[0;34m(self, len, buffer)\u001b[0m\n\u001b[1;32m   1129\u001b[0m             \u001b[0;32mif\u001b[0m \u001b[0mbuffer\u001b[0m \u001b[0;32mis\u001b[0m \u001b[0;32mnot\u001b[0m \u001b[0;32mNone\u001b[0m\u001b[0;34m:\u001b[0m\u001b[0;34m\u001b[0m\u001b[0;34m\u001b[0m\u001b[0m\n\u001b[0;32m-> 1130\u001b[0;31m                 \u001b[0;32mreturn\u001b[0m \u001b[0mself\u001b[0m\u001b[0;34m.\u001b[0m\u001b[0m_sslobj\u001b[0m\u001b[0;34m.\u001b[0m\u001b[0mread\u001b[0m\u001b[0;34m(\u001b[0m\u001b[0mlen\u001b[0m\u001b[0;34m,\u001b[0m \u001b[0mbuffer\u001b[0m\u001b[0;34m)\u001b[0m\u001b[0;34m\u001b[0m\u001b[0;34m\u001b[0m\u001b[0m\n\u001b[0m\u001b[1;32m   1131\u001b[0m             \u001b[0;32melse\u001b[0m\u001b[0;34m:\u001b[0m\u001b[0;34m\u001b[0m\u001b[0;34m\u001b[0m\u001b[0m\n",
            "\u001b[0;31mTimeoutError\u001b[0m: The read operation timed out",
            "\nDuring handling of the above exception, another exception occurred:\n",
            "\u001b[0;31mReadTimeoutError\u001b[0m                          Traceback (most recent call last)",
            "\u001b[0;32m/usr/local/lib/python3.10/dist-packages/requests/adapters.py\u001b[0m in \u001b[0;36msend\u001b[0;34m(self, request, stream, timeout, verify, cert, proxies)\u001b[0m\n\u001b[1;32m    439\u001b[0m             \u001b[0;32mif\u001b[0m \u001b[0;32mnot\u001b[0m \u001b[0mchunked\u001b[0m\u001b[0;34m:\u001b[0m\u001b[0;34m\u001b[0m\u001b[0;34m\u001b[0m\u001b[0m\n\u001b[0;32m--> 440\u001b[0;31m                 resp = conn.urlopen(\n\u001b[0m\u001b[1;32m    441\u001b[0m                     \u001b[0mmethod\u001b[0m\u001b[0;34m=\u001b[0m\u001b[0mrequest\u001b[0m\u001b[0;34m.\u001b[0m\u001b[0mmethod\u001b[0m\u001b[0;34m,\u001b[0m\u001b[0;34m\u001b[0m\u001b[0;34m\u001b[0m\u001b[0m\n",
            "\u001b[0;32m/usr/local/lib/python3.10/dist-packages/urllib3/connectionpool.py\u001b[0m in \u001b[0;36murlopen\u001b[0;34m(self, method, url, body, headers, retries, redirect, assert_same_host, timeout, pool_timeout, release_conn, chunked, body_pos, **response_kw)\u001b[0m\n\u001b[1;32m    786\u001b[0m \u001b[0;34m\u001b[0m\u001b[0m\n\u001b[0;32m--> 787\u001b[0;31m             retries = retries.increment(\n\u001b[0m\u001b[1;32m    788\u001b[0m                 \u001b[0mmethod\u001b[0m\u001b[0;34m,\u001b[0m \u001b[0murl\u001b[0m\u001b[0;34m,\u001b[0m \u001b[0merror\u001b[0m\u001b[0;34m=\u001b[0m\u001b[0me\u001b[0m\u001b[0;34m,\u001b[0m \u001b[0m_pool\u001b[0m\u001b[0;34m=\u001b[0m\u001b[0mself\u001b[0m\u001b[0;34m,\u001b[0m \u001b[0m_stacktrace\u001b[0m\u001b[0;34m=\u001b[0m\u001b[0msys\u001b[0m\u001b[0;34m.\u001b[0m\u001b[0mexc_info\u001b[0m\u001b[0;34m(\u001b[0m\u001b[0;34m)\u001b[0m\u001b[0;34m[\u001b[0m\u001b[0;36m2\u001b[0m\u001b[0;34m]\u001b[0m\u001b[0;34m\u001b[0m\u001b[0;34m\u001b[0m\u001b[0m\n",
            "\u001b[0;32m/usr/local/lib/python3.10/dist-packages/urllib3/util/retry.py\u001b[0m in \u001b[0;36mincrement\u001b[0;34m(self, method, url, response, error, _pool, _stacktrace)\u001b[0m\n\u001b[1;32m    549\u001b[0m             \u001b[0;32mif\u001b[0m \u001b[0mread\u001b[0m \u001b[0;32mis\u001b[0m \u001b[0;32mFalse\u001b[0m \u001b[0;32mor\u001b[0m \u001b[0;32mnot\u001b[0m \u001b[0mself\u001b[0m\u001b[0;34m.\u001b[0m\u001b[0m_is_method_retryable\u001b[0m\u001b[0;34m(\u001b[0m\u001b[0mmethod\u001b[0m\u001b[0;34m)\u001b[0m\u001b[0;34m:\u001b[0m\u001b[0;34m\u001b[0m\u001b[0;34m\u001b[0m\u001b[0m\n\u001b[0;32m--> 550\u001b[0;31m                 \u001b[0;32mraise\u001b[0m \u001b[0msix\u001b[0m\u001b[0;34m.\u001b[0m\u001b[0mreraise\u001b[0m\u001b[0;34m(\u001b[0m\u001b[0mtype\u001b[0m\u001b[0;34m(\u001b[0m\u001b[0merror\u001b[0m\u001b[0;34m)\u001b[0m\u001b[0;34m,\u001b[0m \u001b[0merror\u001b[0m\u001b[0;34m,\u001b[0m \u001b[0m_stacktrace\u001b[0m\u001b[0;34m)\u001b[0m\u001b[0;34m\u001b[0m\u001b[0;34m\u001b[0m\u001b[0m\n\u001b[0m\u001b[1;32m    551\u001b[0m             \u001b[0;32melif\u001b[0m \u001b[0mread\u001b[0m \u001b[0;32mis\u001b[0m \u001b[0;32mnot\u001b[0m \u001b[0;32mNone\u001b[0m\u001b[0;34m:\u001b[0m\u001b[0;34m\u001b[0m\u001b[0;34m\u001b[0m\u001b[0m\n",
            "\u001b[0;32m/usr/local/lib/python3.10/dist-packages/urllib3/packages/six.py\u001b[0m in \u001b[0;36mreraise\u001b[0;34m(tp, value, tb)\u001b[0m\n\u001b[1;32m    769\u001b[0m                 \u001b[0;32mraise\u001b[0m \u001b[0mvalue\u001b[0m\u001b[0;34m.\u001b[0m\u001b[0mwith_traceback\u001b[0m\u001b[0;34m(\u001b[0m\u001b[0mtb\u001b[0m\u001b[0;34m)\u001b[0m\u001b[0;34m\u001b[0m\u001b[0;34m\u001b[0m\u001b[0m\n\u001b[0;32m--> 770\u001b[0;31m             \u001b[0;32mraise\u001b[0m \u001b[0mvalue\u001b[0m\u001b[0;34m\u001b[0m\u001b[0;34m\u001b[0m\u001b[0m\n\u001b[0m\u001b[1;32m    771\u001b[0m         \u001b[0;32mfinally\u001b[0m\u001b[0;34m:\u001b[0m\u001b[0;34m\u001b[0m\u001b[0;34m\u001b[0m\u001b[0m\n",
            "\u001b[0;32m/usr/local/lib/python3.10/dist-packages/urllib3/connectionpool.py\u001b[0m in \u001b[0;36murlopen\u001b[0;34m(self, method, url, body, headers, retries, redirect, assert_same_host, timeout, pool_timeout, release_conn, chunked, body_pos, **response_kw)\u001b[0m\n\u001b[1;32m    702\u001b[0m             \u001b[0;31m# Make the request on the httplib connection object.\u001b[0m\u001b[0;34m\u001b[0m\u001b[0;34m\u001b[0m\u001b[0m\n\u001b[0;32m--> 703\u001b[0;31m             httplib_response = self._make_request(\n\u001b[0m\u001b[1;32m    704\u001b[0m                 \u001b[0mconn\u001b[0m\u001b[0;34m,\u001b[0m\u001b[0;34m\u001b[0m\u001b[0;34m\u001b[0m\u001b[0m\n",
            "\u001b[0;32m/usr/local/lib/python3.10/dist-packages/urllib3/connectionpool.py\u001b[0m in \u001b[0;36m_make_request\u001b[0;34m(self, conn, method, url, timeout, chunked, **httplib_request_kw)\u001b[0m\n\u001b[1;32m    450\u001b[0m         \u001b[0;32mexcept\u001b[0m \u001b[0;34m(\u001b[0m\u001b[0mSocketTimeout\u001b[0m\u001b[0;34m,\u001b[0m \u001b[0mBaseSSLError\u001b[0m\u001b[0;34m,\u001b[0m \u001b[0mSocketError\u001b[0m\u001b[0;34m)\u001b[0m \u001b[0;32mas\u001b[0m \u001b[0me\u001b[0m\u001b[0;34m:\u001b[0m\u001b[0;34m\u001b[0m\u001b[0;34m\u001b[0m\u001b[0m\n\u001b[0;32m--> 451\u001b[0;31m             \u001b[0mself\u001b[0m\u001b[0;34m.\u001b[0m\u001b[0m_raise_timeout\u001b[0m\u001b[0;34m(\u001b[0m\u001b[0merr\u001b[0m\u001b[0;34m=\u001b[0m\u001b[0me\u001b[0m\u001b[0;34m,\u001b[0m \u001b[0murl\u001b[0m\u001b[0;34m=\u001b[0m\u001b[0murl\u001b[0m\u001b[0;34m,\u001b[0m \u001b[0mtimeout_value\u001b[0m\u001b[0;34m=\u001b[0m\u001b[0mread_timeout\u001b[0m\u001b[0;34m)\u001b[0m\u001b[0;34m\u001b[0m\u001b[0;34m\u001b[0m\u001b[0m\n\u001b[0m\u001b[1;32m    452\u001b[0m             \u001b[0;32mraise\u001b[0m\u001b[0;34m\u001b[0m\u001b[0;34m\u001b[0m\u001b[0m\n",
            "\u001b[0;32m/usr/local/lib/python3.10/dist-packages/urllib3/connectionpool.py\u001b[0m in \u001b[0;36m_raise_timeout\u001b[0;34m(self, err, url, timeout_value)\u001b[0m\n\u001b[1;32m    339\u001b[0m         \u001b[0;32mif\u001b[0m \u001b[0misinstance\u001b[0m\u001b[0;34m(\u001b[0m\u001b[0merr\u001b[0m\u001b[0;34m,\u001b[0m \u001b[0mSocketTimeout\u001b[0m\u001b[0;34m)\u001b[0m\u001b[0;34m:\u001b[0m\u001b[0;34m\u001b[0m\u001b[0;34m\u001b[0m\u001b[0m\n\u001b[0;32m--> 340\u001b[0;31m             raise ReadTimeoutError(\n\u001b[0m\u001b[1;32m    341\u001b[0m                 \u001b[0mself\u001b[0m\u001b[0;34m,\u001b[0m \u001b[0murl\u001b[0m\u001b[0;34m,\u001b[0m \u001b[0;34m\"Read timed out. (read timeout=%s)\"\u001b[0m \u001b[0;34m%\u001b[0m \u001b[0mtimeout_value\u001b[0m\u001b[0;34m\u001b[0m\u001b[0;34m\u001b[0m\u001b[0m\n",
            "\u001b[0;31mReadTimeoutError\u001b[0m: HTTPSConnectionPool(host='toar-data.fz-juelich.de', port=443): Read timed out. (read timeout=5)",
            "\nDuring handling of the above exception, another exception occurred:\n",
            "\u001b[0;31mReadTimeout\u001b[0m                               Traceback (most recent call last)",
            "\u001b[0;32m<ipython-input-2-a29e31a159bb>\u001b[0m in \u001b[0;36m<cell line: 2>\u001b[0;34m()\u001b[0m\n\u001b[1;32m      1\u001b[0m \u001b[0;31m# provides all stations from Andorra(AD) and Gibraltar(GI)\u001b[0m\u001b[0;34m\u001b[0m\u001b[0;34m\u001b[0m\u001b[0m\n\u001b[0;32m----> 2\u001b[0;31m \u001b[0mresp\u001b[0m \u001b[0;34m=\u001b[0m \u001b[0mrequests\u001b[0m\u001b[0;34m.\u001b[0m\u001b[0mget\u001b[0m\u001b[0;34m(\u001b[0m\u001b[0;34m\"https://toar-data.fz-juelich.de/api/v2/stationmeta/?country=DE&limit=None\"\u001b[0m\u001b[0;34m,\u001b[0m \u001b[0mtimeout\u001b[0m\u001b[0;34m=\u001b[0m\u001b[0;34m(\u001b[0m\u001b[0;36m3.05\u001b[0m\u001b[0;34m,\u001b[0m \u001b[0;36m5\u001b[0m\u001b[0;34m)\u001b[0m\u001b[0;34m)\u001b[0m\u001b[0;34m\u001b[0m\u001b[0;34m\u001b[0m\u001b[0m\n\u001b[0m\u001b[1;32m      3\u001b[0m \u001b[0mstations\u001b[0m \u001b[0;34m=\u001b[0m \u001b[0mresp\u001b[0m\u001b[0;34m.\u001b[0m\u001b[0mjson\u001b[0m\u001b[0;34m(\u001b[0m\u001b[0;34m)\u001b[0m\u001b[0;34m\u001b[0m\u001b[0;34m\u001b[0m\u001b[0m\n\u001b[1;32m      4\u001b[0m \u001b[0;34m\u001b[0m\u001b[0m\n\u001b[1;32m      5\u001b[0m \u001b[0;32mfor\u001b[0m \u001b[0mind\u001b[0m \u001b[0;32min\u001b[0m \u001b[0mrange\u001b[0m\u001b[0;34m(\u001b[0m\u001b[0;36m0\u001b[0m\u001b[0;34m,\u001b[0m\u001b[0;36m1\u001b[0m\u001b[0;34m)\u001b[0m\u001b[0;34m:\u001b[0m\u001b[0;34m\u001b[0m\u001b[0;34m\u001b[0m\u001b[0m\n",
            "\u001b[0;32m/usr/local/lib/python3.10/dist-packages/requests/api.py\u001b[0m in \u001b[0;36mget\u001b[0;34m(url, params, **kwargs)\u001b[0m\n\u001b[1;32m     73\u001b[0m     \"\"\"\n\u001b[1;32m     74\u001b[0m \u001b[0;34m\u001b[0m\u001b[0m\n\u001b[0;32m---> 75\u001b[0;31m     \u001b[0;32mreturn\u001b[0m \u001b[0mrequest\u001b[0m\u001b[0;34m(\u001b[0m\u001b[0;34m'get'\u001b[0m\u001b[0;34m,\u001b[0m \u001b[0murl\u001b[0m\u001b[0;34m,\u001b[0m \u001b[0mparams\u001b[0m\u001b[0;34m=\u001b[0m\u001b[0mparams\u001b[0m\u001b[0;34m,\u001b[0m \u001b[0;34m**\u001b[0m\u001b[0mkwargs\u001b[0m\u001b[0;34m)\u001b[0m\u001b[0;34m\u001b[0m\u001b[0;34m\u001b[0m\u001b[0m\n\u001b[0m\u001b[1;32m     76\u001b[0m \u001b[0;34m\u001b[0m\u001b[0m\n\u001b[1;32m     77\u001b[0m \u001b[0;34m\u001b[0m\u001b[0m\n",
            "\u001b[0;32m/usr/local/lib/python3.10/dist-packages/requests/api.py\u001b[0m in \u001b[0;36mrequest\u001b[0;34m(method, url, **kwargs)\u001b[0m\n\u001b[1;32m     59\u001b[0m     \u001b[0;31m# cases, and look like a memory leak in others.\u001b[0m\u001b[0;34m\u001b[0m\u001b[0;34m\u001b[0m\u001b[0m\n\u001b[1;32m     60\u001b[0m     \u001b[0;32mwith\u001b[0m \u001b[0msessions\u001b[0m\u001b[0;34m.\u001b[0m\u001b[0mSession\u001b[0m\u001b[0;34m(\u001b[0m\u001b[0;34m)\u001b[0m \u001b[0;32mas\u001b[0m \u001b[0msession\u001b[0m\u001b[0;34m:\u001b[0m\u001b[0;34m\u001b[0m\u001b[0;34m\u001b[0m\u001b[0m\n\u001b[0;32m---> 61\u001b[0;31m         \u001b[0;32mreturn\u001b[0m \u001b[0msession\u001b[0m\u001b[0;34m.\u001b[0m\u001b[0mrequest\u001b[0m\u001b[0;34m(\u001b[0m\u001b[0mmethod\u001b[0m\u001b[0;34m=\u001b[0m\u001b[0mmethod\u001b[0m\u001b[0;34m,\u001b[0m \u001b[0murl\u001b[0m\u001b[0;34m=\u001b[0m\u001b[0murl\u001b[0m\u001b[0;34m,\u001b[0m \u001b[0;34m**\u001b[0m\u001b[0mkwargs\u001b[0m\u001b[0;34m)\u001b[0m\u001b[0;34m\u001b[0m\u001b[0;34m\u001b[0m\u001b[0m\n\u001b[0m\u001b[1;32m     62\u001b[0m \u001b[0;34m\u001b[0m\u001b[0m\n\u001b[1;32m     63\u001b[0m \u001b[0;34m\u001b[0m\u001b[0m\n",
            "\u001b[0;32m/usr/local/lib/python3.10/dist-packages/requests/sessions.py\u001b[0m in \u001b[0;36mrequest\u001b[0;34m(self, method, url, params, data, headers, cookies, files, auth, timeout, allow_redirects, proxies, hooks, stream, verify, cert, json)\u001b[0m\n\u001b[1;32m    527\u001b[0m         }\n\u001b[1;32m    528\u001b[0m         \u001b[0msend_kwargs\u001b[0m\u001b[0;34m.\u001b[0m\u001b[0mupdate\u001b[0m\u001b[0;34m(\u001b[0m\u001b[0msettings\u001b[0m\u001b[0;34m)\u001b[0m\u001b[0;34m\u001b[0m\u001b[0;34m\u001b[0m\u001b[0m\n\u001b[0;32m--> 529\u001b[0;31m         \u001b[0mresp\u001b[0m \u001b[0;34m=\u001b[0m \u001b[0mself\u001b[0m\u001b[0;34m.\u001b[0m\u001b[0msend\u001b[0m\u001b[0;34m(\u001b[0m\u001b[0mprep\u001b[0m\u001b[0;34m,\u001b[0m \u001b[0;34m**\u001b[0m\u001b[0msend_kwargs\u001b[0m\u001b[0;34m)\u001b[0m\u001b[0;34m\u001b[0m\u001b[0;34m\u001b[0m\u001b[0m\n\u001b[0m\u001b[1;32m    530\u001b[0m \u001b[0;34m\u001b[0m\u001b[0m\n\u001b[1;32m    531\u001b[0m         \u001b[0;32mreturn\u001b[0m \u001b[0mresp\u001b[0m\u001b[0;34m\u001b[0m\u001b[0;34m\u001b[0m\u001b[0m\n",
            "\u001b[0;32m/usr/local/lib/python3.10/dist-packages/requests/sessions.py\u001b[0m in \u001b[0;36msend\u001b[0;34m(self, request, **kwargs)\u001b[0m\n\u001b[1;32m    643\u001b[0m \u001b[0;34m\u001b[0m\u001b[0m\n\u001b[1;32m    644\u001b[0m         \u001b[0;31m# Send the request\u001b[0m\u001b[0;34m\u001b[0m\u001b[0;34m\u001b[0m\u001b[0m\n\u001b[0;32m--> 645\u001b[0;31m         \u001b[0mr\u001b[0m \u001b[0;34m=\u001b[0m \u001b[0madapter\u001b[0m\u001b[0;34m.\u001b[0m\u001b[0msend\u001b[0m\u001b[0;34m(\u001b[0m\u001b[0mrequest\u001b[0m\u001b[0;34m,\u001b[0m \u001b[0;34m**\u001b[0m\u001b[0mkwargs\u001b[0m\u001b[0;34m)\u001b[0m\u001b[0;34m\u001b[0m\u001b[0;34m\u001b[0m\u001b[0m\n\u001b[0m\u001b[1;32m    646\u001b[0m \u001b[0;34m\u001b[0m\u001b[0m\n\u001b[1;32m    647\u001b[0m         \u001b[0;31m# Total elapsed time of the request (approximately)\u001b[0m\u001b[0;34m\u001b[0m\u001b[0;34m\u001b[0m\u001b[0m\n",
            "\u001b[0;32m/usr/local/lib/python3.10/dist-packages/requests/adapters.py\u001b[0m in \u001b[0;36msend\u001b[0;34m(self, request, stream, timeout, verify, cert, proxies)\u001b[0m\n\u001b[1;32m    530\u001b[0m                 \u001b[0;32mraise\u001b[0m \u001b[0mSSLError\u001b[0m\u001b[0;34m(\u001b[0m\u001b[0me\u001b[0m\u001b[0;34m,\u001b[0m \u001b[0mrequest\u001b[0m\u001b[0;34m=\u001b[0m\u001b[0mrequest\u001b[0m\u001b[0;34m)\u001b[0m\u001b[0;34m\u001b[0m\u001b[0;34m\u001b[0m\u001b[0m\n\u001b[1;32m    531\u001b[0m             \u001b[0;32melif\u001b[0m \u001b[0misinstance\u001b[0m\u001b[0;34m(\u001b[0m\u001b[0me\u001b[0m\u001b[0;34m,\u001b[0m \u001b[0mReadTimeoutError\u001b[0m\u001b[0;34m)\u001b[0m\u001b[0;34m:\u001b[0m\u001b[0;34m\u001b[0m\u001b[0;34m\u001b[0m\u001b[0m\n\u001b[0;32m--> 532\u001b[0;31m                 \u001b[0;32mraise\u001b[0m \u001b[0mReadTimeout\u001b[0m\u001b[0;34m(\u001b[0m\u001b[0me\u001b[0m\u001b[0;34m,\u001b[0m \u001b[0mrequest\u001b[0m\u001b[0;34m=\u001b[0m\u001b[0mrequest\u001b[0m\u001b[0;34m)\u001b[0m\u001b[0;34m\u001b[0m\u001b[0;34m\u001b[0m\u001b[0m\n\u001b[0m\u001b[1;32m    533\u001b[0m             \u001b[0;32melif\u001b[0m \u001b[0misinstance\u001b[0m\u001b[0;34m(\u001b[0m\u001b[0me\u001b[0m\u001b[0;34m,\u001b[0m \u001b[0m_InvalidHeader\u001b[0m\u001b[0;34m)\u001b[0m\u001b[0;34m:\u001b[0m\u001b[0;34m\u001b[0m\u001b[0;34m\u001b[0m\u001b[0m\n\u001b[1;32m    534\u001b[0m                 \u001b[0;32mraise\u001b[0m \u001b[0mInvalidHeader\u001b[0m\u001b[0;34m(\u001b[0m\u001b[0me\u001b[0m\u001b[0;34m,\u001b[0m \u001b[0mrequest\u001b[0m\u001b[0;34m=\u001b[0m\u001b[0mrequest\u001b[0m\u001b[0;34m)\u001b[0m\u001b[0;34m\u001b[0m\u001b[0;34m\u001b[0m\u001b[0m\n",
            "\u001b[0;31mReadTimeout\u001b[0m: HTTPSConnectionPool(host='toar-data.fz-juelich.de', port=443): Read timed out. (read timeout=5)"
          ]
        }
      ],
      "source": [
        "# provides all stations from Andorra(AD) and Gibraltar(GI)\n",
        "resp = requests.get(\"https://toar-data.fz-juelich.de/api/v2/stationmeta/?country=DE&limit=None\", timeout=(3.05, 5))\n",
        "stations = resp.json()\n",
        "\n",
        "for ind in range(0,1):\n",
        "    print(stations[ind]['id'])\n",
        "    print(stations[ind]['codes'])\n",
        "    print(stations[ind]['name'])\n",
        "# Access nested variables\n",
        "for item in data:\n",
        "    name = item[1]\n",
        "    #age = item[\"age\"]\n",
        "    #city = item[\"address\"][\"city\"]\n",
        "    #state = item[\"address\"][\"state\"]\n",
        "    #print(f\"Name: {id}\")\n",
        "    #print(f\"Name: {name}, Age: {age}, City: {city}, State: {state}\")\n",
        "print(stations)"
      ],
      "id": "oLxrqtW0Bhx8"
    },
    {
      "cell_type": "markdown",
      "metadata": {
        "id": "BJipB0RzBhx9"
      },
      "source": [
        "### 2. Find all time series of one station\n",
        "\n",
        "From the last command, we found the station Escaldes-Engordany (Andorra). Its station code is AD0942A.\n",
        "Now we want to extract the metadata of all time series for this specific station that are stored in the TOAR database."
      ],
      "id": "BJipB0RzBhx9"
    },
    {
      "cell_type": "code",
      "execution_count": 3,
      "metadata": {
        "tags": [],
        "id": "I4umIwMBBhx-"
      },
      "outputs": [],
      "source": [
        "resp = requests.get(\"https://toar-data.fz-juelich.de/api/v2/search/?codes=DEUB001&variable_id=5&limit=None\", timeout=(3.05, 5))\n",
        "metadata = resp.json()"
      ],
      "id": "I4umIwMBBhx-"
    },
    {
      "cell_type": "code",
      "execution_count": 4,
      "metadata": {
        "colab": {
          "base_uri": "https://localhost:8080/"
        },
        "id": "ddqXFEp-Bhx_",
        "outputId": "ba5f9962-e39e-4011-8f7c-c785a9f4b864"
      },
      "outputs": [
        {
          "output_type": "stream",
          "name": "stdout",
          "text": [
            "18855\n",
            "31070\n"
          ]
        }
      ],
      "source": [
        "for i in range(0,2):\n",
        "    print(metadata[i]['id'])"
      ],
      "id": "ddqXFEp-Bhx_"
    },
    {
      "cell_type": "code",
      "execution_count": null,
      "metadata": {
        "id": "ZJ6jYuucBhx_"
      },
      "outputs": [],
      "source": [],
      "id": "ZJ6jYuucBhx_"
    },
    {
      "cell_type": "markdown",
      "metadata": {
        "id": "7OJIsgOEBhx_"
      },
      "source": [
        "### 3. Download data of a specific time series\n",
        "\n",
        "From the previous results, we choose the time series of ozone from the resource_provider (roles) European Environment Agency (EEA) with id 24896.\n",
        "We want to download all available data in csv format, which is possible by providing the argument _format=csv_.\n",
        "This means that data is no longer provided in JSON format (and we cannot use json() to access it).\n",
        "We want to read the data into a pandas DataFrame.\n",
        "(_Data from the TOAR-II database will always be delivered with its related metadata!_)"
      ],
      "id": "7OJIsgOEBhx_"
    },
    {
      "cell_type": "code",
      "execution_count": 5,
      "metadata": {
        "colab": {
          "base_uri": "https://localhost:8080/"
        },
        "id": "pXjwuCcfBhyA",
        "outputId": "7ef07070-d831-4cb4-d218-2c237f58dec6"
      },
      "outputs": [
        {
          "output_type": "stream",
          "name": "stdout",
          "text": [
            "<Response [200]>\n"
          ]
        }
      ],
      "source": [
        "\n",
        "URL = \"https://toar-data.fz-juelich.de/api/v2/data/timeseries/18855?format=csv&daterange=2010-05-01T00:00:00,2010-05-05T08:00:00\"\n",
        "#URL = \"https://toar-data.fz-juelich.de/api/v2/search/?bounding_box=49,7,50,8&variable_id=21&limit=None\"\n",
        "\n",
        "resp = requests.get(URL)\n",
        "pp.pprint(resp)\n",
        "# save to file\n",
        "with open(\"StationDEUB001_timeseries_id18855_01MAY0000_2010_05MAY0800_2010_Ozone.csv\", \"w\") as file:\n",
        "    file.write(resp.text)\n"
      ],
      "id": "pXjwuCcfBhyA"
    },
    {
      "cell_type": "code",
      "source": [
        "URL_forecast = \"https://toar-data.fz-juelich.de/api/v2/data/timeseries/18855?format=csv&daterange=2010-05-05T09:00:00,2010-05-05T11:00:00\"\n",
        "#URL = \"https://toar-data.fz-juelich.de/api/v2/search/?bounding_box=49,7,50,8&variable_id=21&limit=None\"\n",
        "\n",
        "resp_forecast = requests.get(URL_forecast)\n",
        "pp.pprint(resp_forecast)\n",
        "# save to file\n",
        "with open(\"StationDEUB001_timeseries_forecast_id18855_05MAY0900_2010_05MAY1100_2010_Ozone.csv\", \"w\") as file:\n",
        "    file.write(resp.text)"
      ],
      "metadata": {
        "colab": {
          "base_uri": "https://localhost:8080/"
        },
        "id": "BI_3CYG-bnrc",
        "outputId": "61c6a289-6c9c-4f1c-b905-7027cfc3b2a4"
      },
      "id": "BI_3CYG-bnrc",
      "execution_count": 6,
      "outputs": [
        {
          "output_type": "stream",
          "name": "stdout",
          "text": [
            "<Response [200]>\n"
          ]
        }
      ]
    },
    {
      "cell_type": "markdown",
      "metadata": {
        "id": "U7LEMXVvBhyA"
      },
      "source": [
        "(For details on how we load the metadata here see [loading_metadata_from_data_download.ipynb](loading_metadata_from_data_download.ipynb))"
      ],
      "id": "U7LEMXVvBhyA"
    },
    {
      "cell_type": "code",
      "execution_count": null,
      "metadata": {
        "id": "api2oRmSBhyB"
      },
      "outputs": [],
      "source": [
        "# read metadata from the top of the response\n",
        "##metadata = json.loads(\"\\n\".join([line[1:] for line in resp_forecast.text.split(\"\\n\") if line.startswith(\"#\")]))\n",
        "#(\"metadata:\")\n",
        "#pp.pprint(metadata)\n",
        "\n"
      ],
      "id": "api2oRmSBhyB"
    },
    {
      "cell_type": "code",
      "execution_count": 7,
      "metadata": {
        "colab": {
          "base_uri": "https://localhost:8080/"
        },
        "id": "lsZgZoffBhyB",
        "outputId": "1ca1bba1-8020-4c68-e96a-823dd33f68c5"
      },
      "outputs": [
        {
          "output_type": "stream",
          "name": "stdout",
          "text": [
            "data:\n",
            "                               value  flags                       version  \\\n",
            "datetime                                                                    \n",
            "2010-05-05 09:00:00+00:00  39.347340      1  000001.000000.00000000000000   \n",
            "2010-05-05 10:00:00+00:00  40.675626      1  000001.000000.00000000000000   \n",
            "2010-05-05 11:00:00+00:00  44.384802      1  000001.000000.00000000000000   \n",
            "\n",
            "                           timeseries_id  \n",
            "datetime                                  \n",
            "2010-05-05 09:00:00+00:00          18855  \n",
            "2010-05-05 10:00:00+00:00          18855  \n",
            "2010-05-05 11:00:00+00:00          18855  \n"
          ]
        }
      ],
      "source": [
        "# read the actual data\n",
        "#csv_file = \"StationDEUB001_timeseries_id94503_JAN_2010_FEB_2010_air_temperature.csv\"\n",
        "data = pd.read_csv(StringIO(resp.text), comment=\"#\", index_col=\"datetime\", parse_dates=True, infer_datetime_format=True)\n",
        "data_forecast = pd.read_csv(StringIO(resp_forecast.text), comment=\"#\", index_col=\"datetime\", parse_dates=True, infer_datetime_format=True)\n",
        "print(f\"data:\\n{data_forecast}\")"
      ],
      "id": "lsZgZoffBhyB"
    },
    {
      "cell_type": "markdown",
      "metadata": {
        "id": "I93tCC0NBhyC"
      },
      "source": [
        "### 4. Plot the time series"
      ],
      "id": "I93tCC0NBhyC"
    },
    {
      "cell_type": "code",
      "execution_count": 8,
      "metadata": {
        "id": "Wta1SEKnBhyC"
      },
      "outputs": [],
      "source": [
        "\n",
        "import numpy as np\n",
        "from sklearn.model_selection import train_test_split\n",
        "from sklearn.linear_model import LinearRegression\n"
      ],
      "id": "Wta1SEKnBhyC"
    },
    {
      "cell_type": "code",
      "execution_count": 9,
      "metadata": {
        "colab": {
          "base_uri": "https://localhost:8080/",
          "height": 868
        },
        "id": "PANg5gsyBhyC",
        "outputId": "e00790f2-8a36-4ffa-ef47-e5817fe62920"
      },
      "outputs": [
        {
          "output_type": "display_data",
          "data": {
            "text/plain": [
              "<Figure size 2000x1000 with 1 Axes>"
            ],
            "image/png": "[encoded data removed]"
          },
          "metadata": {}
        }
      ],
      "source": [
        "data.reset_index().plot(x=\"datetime\", y=\"value\", kind=\"scatter\", title=\"Plot of time series StationDEUB001_Westerland_timeseries_id18855_01MAY0000_2010_05MAY0800_2010_ozone\", figsize=(20, 10));"
      ],
      "id": "PANg5gsyBhyC"
    },
    {
      "cell_type": "code",
      "execution_count": null,
      "metadata": {
        "colab": {
          "base_uri": "https://localhost:8080/",
          "height": 175
        },
        "id": "GfhIqQAcBhyC",
        "outputId": "fb600c8b-f1c7-4084-dfe7-aeed8047147a"
      },
      "outputs": [
        {
          "output_type": "execute_result",
          "data": {
            "text/plain": [
              "                               value  flags                       version  \\\n",
              "datetime                                                                    \n",
              "2010-05-05 09:00:00+00:00  39.347340      1  000001.000000.00000000000000   \n",
              "2010-05-05 10:00:00+00:00  40.675626      1  000001.000000.00000000000000   \n",
              "2010-05-05 11:00:00+00:00  44.384802      1  000001.000000.00000000000000   \n",
              "\n",
              "                           timeseries_id  \n",
              "datetime                                  \n",
              "2010-05-05 09:00:00+00:00          18855  \n",
              "2010-05-05 10:00:00+00:00          18855  \n",
              "2010-05-05 11:00:00+00:00          18855  "
            ],
            "text/html": [
              "\n",
              "  <div id=\"df-2d181594-afaa-4f8c-8023-57578e8b4b5e\">\n",
              "    <div class=\"colab-df-container\">\n",
              "      <div>\n",
              "<style scoped>\n",
              "    .dataframe tbody tr th:only-of-type {\n",
              "        vertical-align: middle;\n",
              "    }\n",
              "\n",
              "    .dataframe tbody tr th {\n",
              "        vertical-align: top;\n",
              "    }\n",
              "\n",
              "    .dataframe thead th {\n",
              "        text-align: right;\n",
              "    }\n",
              "</style>\n",
              "<table border=\"1\" class=\"dataframe\">\n",
              "  <thead>\n",
              "    <tr style=\"text-align: right;\">\n",
              "      <th></th>\n",
              "      <th>value</th>\n",
              "      <th>flags</th>\n",
              "      <th>version</th>\n",
              "      <th>timeseries_id</th>\n",
              "    </tr>\n",
              "    <tr>\n",
              "      <th>datetime</th>\n",
              "      <th></th>\n",
              "      <th></th>\n",
              "      <th></th>\n",
              "      <th></th>\n",
              "    </tr>\n",
              "  </thead>\n",
              "  <tbody>\n",
              "    <tr>\n",
              "      <th>2010-05-05 09:00:00+00:00</th>\n",
              "      <td>39.347340</td>\n",
              "      <td>1</td>\n",
              "      <td>000001.000000.00000000000000</td>\n",
              "      <td>18855</td>\n",
              "    </tr>\n",
              "    <tr>\n",
              "      <th>2010-05-05 10:00:00+00:00</th>\n",
              "      <td>40.675626</td>\n",
              "      <td>1</td>\n",
              "      <td>000001.000000.00000000000000</td>\n",
              "      <td>18855</td>\n",
              "    </tr>\n",
              "    <tr>\n",
              "      <th>2010-05-05 11:00:00+00:00</th>\n",
              "      <td>44.384802</td>\n",
              "      <td>1</td>\n",
              "      <td>000001.000000.00000000000000</td>\n",
              "      <td>18855</td>\n",
              "    </tr>\n",
              "  </tbody>\n",
              "</table>\n",
              "</div>\n",
              "      <button class=\"colab-df-convert\" onclick=\"convertToInteractive('df-2d181594-afaa-4f8c-8023-57578e8b4b5e')\"\n",
              "              title=\"Convert this dataframe to an interactive table.\"\n",
              "              style=\"display:none;\">\n",
              "        \n",
              "  <svg xmlns=\"http://www.w3.org/2000/svg\" height=\"24px\"viewBox=\"0 0 24 24\"\n",
              "       width=\"24px\">\n",
              "    <path d=\"M0 0h24v24H0V0z\" fill=\"none\"/>\n",
              "    <path d=\"M18.56 5.44l.94 2.06.94-2.06 2.06-.94-2.06-.94-.94-2.06-.94 2.06-2.06.94zm-11 1L8.5 8.5l.94-2.06 2.06-.94-2.06-.94L8.5 2.5l-.94 2.06-2.06.94zm10 10l.94 2.06.94-2.06 2.06-.94-2.06-.94-.94-2.06-.94 2.06-2.06.94z\"/><path d=\"M17.41 7.96l-1.37-1.37c-.4-.4-.92-.59-1.43-.59-.52 0-1.04.2-1.43.59L10.3 9.45l-7.72 7.72c-.78.78-.78 2.05 0 2.83L4 21.41c.39.39.9.59 1.41.59.51 0 1.02-.2 1.41-.59l7.78-7.78 2.81-2.81c.8-.78.8-2.07 0-2.86zM5.41 20L4 18.59l7.72-7.72 1.47 1.35L5.41 20z\"/>\n",
              "  </svg>\n",
              "      </button>\n",
              "      \n",
              "  <style>\n",
              "    .colab-df-container {\n",
              "      display:flex;\n",
              "      flex-wrap:wrap;\n",
              "      gap: 12px;\n",
              "    }\n",
              "\n",
              "    .colab-df-convert {\n",
              "      background-color: #E8F0FE;\n",
              "      border: none;\n",
              "      border-radius: 50%;\n",
              "      cursor: pointer;\n",
              "      display: none;\n",
              "      fill: #1967D2;\n",
              "      height: 32px;\n",
              "      padding: 0 0 0 0;\n",
              "      width: 32px;\n",
              "    }\n",
              "\n",
              "    .colab-df-convert:hover {\n",
              "      background-color: #E2EBFA;\n",
              "      box-shadow: 0px 1px 2px rgba(60, 64, 67, 0.3), 0px 1px 3px 1px rgba(60, 64, 67, 0.15);\n",
              "      fill: #174EA6;\n",
              "    }\n",
              "\n",
              "    [theme=dark] .colab-df-convert {\n",
              "      background-color: #3B4455;\n",
              "      fill: #D2E3FC;\n",
              "    }\n",
              "\n",
              "    [theme=dark] .colab-df-convert:hover {\n",
              "      background-color: #434B5C;\n",
              "      box-shadow: 0px 1px 3px 1px rgba(0, 0, 0, 0.15);\n",
              "      filter: drop-shadow(0px 1px 2px rgba(0, 0, 0, 0.3));\n",
              "      fill: #FFFFFF;\n",
              "    }\n",
              "  </style>\n",
              "\n",
              "      <script>\n",
              "        const buttonEl =\n",
              "          document.querySelector('#df-2d181594-afaa-4f8c-8023-57578e8b4b5e button.colab-df-convert');\n",
              "        buttonEl.style.display =\n",
              "          google.colab.kernel.accessAllowed ? 'block' : 'none';\n",
              "\n",
              "        async function convertToInteractive(key) {\n",
              "          const element = document.querySelector('#df-2d181594-afaa-4f8c-8023-57578e8b4b5e');\n",
              "          const dataTable =\n",
              "            await google.colab.kernel.invokeFunction('convertToInteractive',\n",
              "                                                     [key], {});\n",
              "          if (!dataTable) return;\n",
              "\n",
              "          const docLinkHtml = 'Like what you see? Visit the ' +\n",
              "            '<a target=\"_blank\" href=https://colab.research.google.com/notebooks/data_table.ipynb>data table notebook</a>'\n",
              "            + ' to learn more about interactive tables.';\n",
              "          element.innerHTML = '';\n",
              "          dataTable['output_type'] = 'display_data';\n",
              "          await google.colab.output.renderOutput(dataTable, element);\n",
              "          const docLink = document.createElement('div');\n",
              "          docLink.innerHTML = docLinkHtml;\n",
              "          element.appendChild(docLink);\n",
              "        }\n",
              "      </script>\n",
              "    </div>\n",
              "  </div>\n",
              "  "
            ]
          },
          "metadata": {},
          "execution_count": 23
        }
      ],
      "source": [
        "#data.head()\n",
        "data_forecast.head()"
      ],
      "id": "GfhIqQAcBhyC"
    },
    {
      "cell_type": "code",
      "execution_count": null,
      "metadata": {
        "colab": {
          "base_uri": "https://localhost:8080/"
        },
        "id": "Zge53dcfBhyD",
        "outputId": "d06def79-10bb-4336-938f-ec307c0c1ce0"
      },
      "outputs": [
        {
          "output_type": "stream",
          "name": "stdout",
          "text": [
            "<class 'pandas.core.frame.DataFrame'>\n"
          ]
        }
      ],
      "source": [
        "print(type(data))"
      ],
      "id": "Zge53dcfBhyD"
    },
    {
      "cell_type": "code",
      "execution_count": 10,
      "metadata": {
        "id": "Ebn7ION3BhyD"
      },
      "outputs": [],
      "source": [
        "data.reset_index(inplace=True)\n",
        "data_forecast.reset_index(inplace=True)"
      ],
      "id": "Ebn7ION3BhyD"
    },
    {
      "cell_type": "code",
      "execution_count": null,
      "metadata": {
        "colab": {
          "base_uri": "https://localhost:8080/",
          "height": 206
        },
        "id": "onZlQ_YSBhyD",
        "outputId": "73ba21b7-7238-4868-bf6a-6c3a323335c4"
      },
      "outputs": [
        {
          "output_type": "execute_result",
          "data": {
            "text/plain": [
              "                   datetime      value  flags                       version  \\\n",
              "0 2010-05-01 00:00:00+00:00  34.560498      1  000001.000000.00000000000000   \n",
              "1 2010-05-01 01:00:00+00:00  31.578120      1  000001.000000.00000000000000   \n",
              "2 2010-05-01 02:00:00+00:00  23.909148      1  000001.000000.00000000000000   \n",
              "3 2010-05-01 03:00:00+00:00  24.961752      1  000001.000000.00000000000000   \n",
              "4 2010-05-01 04:00:00+00:00  35.237172      1  000001.000000.00000000000000   \n",
              "\n",
              "   timeseries_id  \n",
              "0          18855  \n",
              "1          18855  \n",
              "2          18855  \n",
              "3          18855  \n",
              "4          18855  "
            ],
            "text/html": [
              "\n",
              "  <div id=\"df-e21651cc-ff33-43af-8125-15b7eee0f719\">\n",
              "    <div class=\"colab-df-container\">\n",
              "      <div>\n",
              "<style scoped>\n",
              "    .dataframe tbody tr th:only-of-type {\n",
              "        vertical-align: middle;\n",
              "    }\n",
              "\n",
              "    .dataframe tbody tr th {\n",
              "        vertical-align: top;\n",
              "    }\n",
              "\n",
              "    .dataframe thead th {\n",
              "        text-align: right;\n",
              "    }\n",
              "</style>\n",
              "<table border=\"1\" class=\"dataframe\">\n",
              "  <thead>\n",
              "    <tr style=\"text-align: right;\">\n",
              "      <th></th>\n",
              "      <th>datetime</th>\n",
              "      <th>value</th>\n",
              "      <th>flags</th>\n",
              "      <th>version</th>\n",
              "      <th>timeseries_id</th>\n",
              "    </tr>\n",
              "  </thead>\n",
              "  <tbody>\n",
              "    <tr>\n",
              "      <th>0</th>\n",
              "      <td>2010-05-01 00:00:00+00:00</td>\n",
              "      <td>34.560498</td>\n",
              "      <td>1</td>\n",
              "      <td>000001.000000.00000000000000</td>\n",
              "      <td>18855</td>\n",
              "    </tr>\n",
              "    <tr>\n",
              "      <th>1</th>\n",
              "      <td>2010-05-01 01:00:00+00:00</td>\n",
              "      <td>31.578120</td>\n",
              "      <td>1</td>\n",
              "      <td>000001.000000.00000000000000</td>\n",
              "      <td>18855</td>\n",
              "    </tr>\n",
              "    <tr>\n",
              "      <th>2</th>\n",
              "      <td>2010-05-01 02:00:00+00:00</td>\n",
              "      <td>23.909148</td>\n",
              "      <td>1</td>\n",
              "      <td>000001.000000.00000000000000</td>\n",
              "      <td>18855</td>\n",
              "    </tr>\n",
              "    <tr>\n",
              "      <th>3</th>\n",
              "      <td>2010-05-01 03:00:00+00:00</td>\n",
              "      <td>24.961752</td>\n",
              "      <td>1</td>\n",
              "      <td>000001.000000.00000000000000</td>\n",
              "      <td>18855</td>\n",
              "    </tr>\n",
              "    <tr>\n",
              "      <th>4</th>\n",
              "      <td>2010-05-01 04:00:00+00:00</td>\n",
              "      <td>35.237172</td>\n",
              "      <td>1</td>\n",
              "      <td>000001.000000.00000000000000</td>\n",
              "      <td>18855</td>\n",
              "    </tr>\n",
              "  </tbody>\n",
              "</table>\n",
              "</div>\n",
              "      <button class=\"colab-df-convert\" onclick=\"convertToInteractive('df-e21651cc-ff33-43af-8125-15b7eee0f719')\"\n",
              "              title=\"Convert this dataframe to an interactive table.\"\n",
              "              style=\"display:none;\">\n",
              "        \n",
              "  <svg xmlns=\"http://www.w3.org/2000/svg\" height=\"24px\"viewBox=\"0 0 24 24\"\n",
              "       width=\"24px\">\n",
              "    <path d=\"M0 0h24v24H0V0z\" fill=\"none\"/>\n",
              "    <path d=\"M18.56 5.44l.94 2.06.94-2.06 2.06-.94-2.06-.94-.94-2.06-.94 2.06-2.06.94zm-11 1L8.5 8.5l.94-2.06 2.06-.94-2.06-.94L8.5 2.5l-.94 2.06-2.06.94zm10 10l.94 2.06.94-2.06 2.06-.94-2.06-.94-.94-2.06-.94 2.06-2.06.94z\"/><path d=\"M17.41 7.96l-1.37-1.37c-.4-.4-.92-.59-1.43-.59-.52 0-1.04.2-1.43.59L10.3 9.45l-7.72 7.72c-.78.78-.78 2.05 0 2.83L4 21.41c.39.39.9.59 1.41.59.51 0 1.02-.2 1.41-.59l7.78-7.78 2.81-2.81c.8-.78.8-2.07 0-2.86zM5.41 20L4 18.59l7.72-7.72 1.47 1.35L5.41 20z\"/>\n",
              "  </svg>\n",
              "      </button>\n",
              "      \n",
              "  <style>\n",
              "    .colab-df-container {\n",
              "      display:flex;\n",
              "      flex-wrap:wrap;\n",
              "      gap: 12px;\n",
              "    }\n",
              "\n",
              "    .colab-df-convert {\n",
              "      background-color: #E8F0FE;\n",
              "      border: none;\n",
              "      border-radius: 50%;\n",
              "      cursor: pointer;\n",
              "      display: none;\n",
              "      fill: #1967D2;\n",
              "      height: 32px;\n",
              "      padding: 0 0 0 0;\n",
              "      width: 32px;\n",
              "    }\n",
              "\n",
              "    .colab-df-convert:hover {\n",
              "      background-color: #E2EBFA;\n",
              "      box-shadow: 0px 1px 2px rgba(60, 64, 67, 0.3), 0px 1px 3px 1px rgba(60, 64, 67, 0.15);\n",
              "      fill: #174EA6;\n",
              "    }\n",
              "\n",
              "    [theme=dark] .colab-df-convert {\n",
              "      background-color: #3B4455;\n",
              "      fill: #D2E3FC;\n",
              "    }\n",
              "\n",
              "    [theme=dark] .colab-df-convert:hover {\n",
              "      background-color: #434B5C;\n",
              "      box-shadow: 0px 1px 3px 1px rgba(0, 0, 0, 0.15);\n",
              "      filter: drop-shadow(0px 1px 2px rgba(0, 0, 0, 0.3));\n",
              "      fill: #FFFFFF;\n",
              "    }\n",
              "  </style>\n",
              "\n",
              "      <script>\n",
              "        const buttonEl =\n",
              "          document.querySelector('#df-e21651cc-ff33-43af-8125-15b7eee0f719 button.colab-df-convert');\n",
              "        buttonEl.style.display =\n",
              "          google.colab.kernel.accessAllowed ? 'block' : 'none';\n",
              "\n",
              "        async function convertToInteractive(key) {\n",
              "          const element = document.querySelector('#df-e21651cc-ff33-43af-8125-15b7eee0f719');\n",
              "          const dataTable =\n",
              "            await google.colab.kernel.invokeFunction('convertToInteractive',\n",
              "                                                     [key], {});\n",
              "          if (!dataTable) return;\n",
              "\n",
              "          const docLinkHtml = 'Like what you see? Visit the ' +\n",
              "            '<a target=\"_blank\" href=https://colab.research.google.com/notebooks/data_table.ipynb>data table notebook</a>'\n",
              "            + ' to learn more about interactive tables.';\n",
              "          element.innerHTML = '';\n",
              "          dataTable['output_type'] = 'display_data';\n",
              "          await google.colab.output.renderOutput(dataTable, element);\n",
              "          const docLink = document.createElement('div');\n",
              "          docLink.innerHTML = docLinkHtml;\n",
              "          element.appendChild(docLink);\n",
              "        }\n",
              "      </script>\n",
              "    </div>\n",
              "  </div>\n",
              "  "
            ]
          },
          "metadata": {},
          "execution_count": 291
        }
      ],
      "source": [
        "data.head()"
      ],
      "id": "onZlQ_YSBhyD"
    },
    {
      "cell_type": "code",
      "execution_count": 11,
      "metadata": {
        "id": "iteUqCMDBhyE"
      },
      "outputs": [],
      "source": [
        "data['datetime'] = pd.to_datetime(data['datetime'])\n",
        "data = data.sort_values('datetime')\n",
        "data = data[['datetime', 'value']]"
      ],
      "id": "iteUqCMDBhyE"
    },
    {
      "cell_type": "code",
      "source": [
        "data_forecast['datetime'] = pd.to_datetime(data_forecast['datetime'])\n",
        "data_forecast = data_forecast.sort_values('datetime')\n",
        "data_forecast = data_forecast[['datetime', 'value']]"
      ],
      "metadata": {
        "id": "BYjQAjS7dfks"
      },
      "id": "BYjQAjS7dfks",
      "execution_count": 12,
      "outputs": []
    },
    {
      "cell_type": "code",
      "execution_count": 13,
      "metadata": {
        "colab": {
          "base_uri": "https://localhost:8080/",
          "height": 143
        },
        "id": "B-qhpsmGBhyE",
        "outputId": "04a66217-8e38-4540-ad5f-42c91793899e"
      },
      "outputs": [
        {
          "output_type": "execute_result",
          "data": {
            "text/plain": [
              "                   datetime      value\n",
              "0 2010-05-05 09:00:00+00:00  39.347340\n",
              "1 2010-05-05 10:00:00+00:00  40.675626\n",
              "2 2010-05-05 11:00:00+00:00  44.384802"
            ],
            "text/html": [
              "\n",
              "  <div id=\"df-5890f0b0-144d-472f-bd28-d886d5d72665\">\n",
              "    <div class=\"colab-df-container\">\n",
              "      <div>\n",
              "<style scoped>\n",
              "    .dataframe tbody tr th:only-of-type {\n",
              "        vertical-align: middle;\n",
              "    }\n",
              "\n",
              "    .dataframe tbody tr th {\n",
              "        vertical-align: top;\n",
              "    }\n",
              "\n",
              "    .dataframe thead th {\n",
              "        text-align: right;\n",
              "    }\n",
              "</style>\n",
              "<table border=\"1\" class=\"dataframe\">\n",
              "  <thead>\n",
              "    <tr style=\"text-align: right;\">\n",
              "      <th></th>\n",
              "      <th>datetime</th>\n",
              "      <th>value</th>\n",
              "    </tr>\n",
              "  </thead>\n",
              "  <tbody>\n",
              "    <tr>\n",
              "      <th>0</th>\n",
              "      <td>2010-05-05 09:00:00+00:00</td>\n",
              "      <td>39.347340</td>\n",
              "    </tr>\n",
              "    <tr>\n",
              "      <th>1</th>\n",
              "      <td>2010-05-05 10:00:00+00:00</td>\n",
              "      <td>40.675626</td>\n",
              "    </tr>\n",
              "    <tr>\n",
              "      <th>2</th>\n",
              "      <td>2010-05-05 11:00:00+00:00</td>\n",
              "      <td>44.384802</td>\n",
              "    </tr>\n",
              "  </tbody>\n",
              "</table>\n",
              "</div>\n",
              "      <button class=\"colab-df-convert\" onclick=\"convertToInteractive('df-5890f0b0-144d-472f-bd28-d886d5d72665')\"\n",
              "              title=\"Convert this dataframe to an interactive table.\"\n",
              "              style=\"display:none;\">\n",
              "        \n",
              "  <svg xmlns=\"http://www.w3.org/2000/svg\" height=\"24px\"viewBox=\"0 0 24 24\"\n",
              "       width=\"24px\">\n",
              "    <path d=\"M0 0h24v24H0V0z\" fill=\"none\"/>\n",
              "    <path d=\"M18.56 5.44l.94 2.06.94-2.06 2.06-.94-2.06-.94-.94-2.06-.94 2.06-2.06.94zm-11 1L8.5 8.5l.94-2.06 2.06-.94-2.06-.94L8.5 2.5l-.94 2.06-2.06.94zm10 10l.94 2.06.94-2.06 2.06-.94-2.06-.94-.94-2.06-.94 2.06-2.06.94z\"/><path d=\"M17.41 7.96l-1.37-1.37c-.4-.4-.92-.59-1.43-.59-.52 0-1.04.2-1.43.59L10.3 9.45l-7.72 7.72c-.78.78-.78 2.05 0 2.83L4 21.41c.39.39.9.59 1.41.59.51 0 1.02-.2 1.41-.59l7.78-7.78 2.81-2.81c.8-.78.8-2.07 0-2.86zM5.41 20L4 18.59l7.72-7.72 1.47 1.35L5.41 20z\"/>\n",
              "  </svg>\n",
              "      </button>\n",
              "      \n",
              "  <style>\n",
              "    .colab-df-container {\n",
              "      display:flex;\n",
              "      flex-wrap:wrap;\n",
              "      gap: 12px;\n",
              "    }\n",
              "\n",
              "    .colab-df-convert {\n",
              "      background-color: #E8F0FE;\n",
              "      border: none;\n",
              "      border-radius: 50%;\n",
              "      cursor: pointer;\n",
              "      display: none;\n",
              "      fill: #1967D2;\n",
              "      height: 32px;\n",
              "      padding: 0 0 0 0;\n",
              "      width: 32px;\n",
              "    }\n",
              "\n",
              "    .colab-df-convert:hover {\n",
              "      background-color: #E2EBFA;\n",
              "      box-shadow: 0px 1px 2px rgba(60, 64, 67, 0.3), 0px 1px 3px 1px rgba(60, 64, 67, 0.15);\n",
              "      fill: #174EA6;\n",
              "    }\n",
              "\n",
              "    [theme=dark] .colab-df-convert {\n",
              "      background-color: #3B4455;\n",
              "      fill: #D2E3FC;\n",
              "    }\n",
              "\n",
              "    [theme=dark] .colab-df-convert:hover {\n",
              "      background-color: #434B5C;\n",
              "      box-shadow: 0px 1px 3px 1px rgba(0, 0, 0, 0.15);\n",
              "      filter: drop-shadow(0px 1px 2px rgba(0, 0, 0, 0.3));\n",
              "      fill: #FFFFFF;\n",
              "    }\n",
              "  </style>\n",
              "\n",
              "      <script>\n",
              "        const buttonEl =\n",
              "          document.querySelector('#df-5890f0b0-144d-472f-bd28-d886d5d72665 button.colab-df-convert');\n",
              "        buttonEl.style.display =\n",
              "          google.colab.kernel.accessAllowed ? 'block' : 'none';\n",
              "\n",
              "        async function convertToInteractive(key) {\n",
              "          const element = document.querySelector('#df-5890f0b0-144d-472f-bd28-d886d5d72665');\n",
              "          const dataTable =\n",
              "            await google.colab.kernel.invokeFunction('convertToInteractive',\n",
              "                                                     [key], {});\n",
              "          if (!dataTable) return;\n",
              "\n",
              "          const docLinkHtml = 'Like what you see? Visit the ' +\n",
              "            '<a target=\"_blank\" href=https://colab.research.google.com/notebooks/data_table.ipynb>data table notebook</a>'\n",
              "            + ' to learn more about interactive tables.';\n",
              "          element.innerHTML = '';\n",
              "          dataTable['output_type'] = 'display_data';\n",
              "          await google.colab.output.renderOutput(dataTable, element);\n",
              "          const docLink = document.createElement('div');\n",
              "          docLink.innerHTML = docLinkHtml;\n",
              "          element.appendChild(docLink);\n",
              "        }\n",
              "      </script>\n",
              "    </div>\n",
              "  </div>\n",
              "  "
            ]
          },
          "metadata": {},
          "execution_count": 13
        }
      ],
      "source": [
        "data_forecast.head()"
      ],
      "id": "B-qhpsmGBhyE"
    },
    {
      "cell_type": "code",
      "execution_count": 14,
      "metadata": {
        "id": "ojSTcymfBhyF"
      },
      "outputs": [],
      "source": [
        "train_data, test_data = train_test_split(data, test_size=0.2, shuffle=False)\n"
      ],
      "id": "ojSTcymfBhyF"
    },
    {
      "cell_type": "code",
      "execution_count": 15,
      "metadata": {
        "id": "MyOneNFGBhyF"
      },
      "outputs": [],
      "source": [
        "X_train = train_data['datetime'].astype(np.int64) // 10**9  # Convert datetime to epoch timestamp\n",
        "y_train = train_data['value']\n",
        "X_test = test_data['datetime'].astype(np.int64) // 10**9\n",
        "y_test = test_data['value']"
      ],
      "id": "MyOneNFGBhyF"
    },
    {
      "cell_type": "markdown",
      "metadata": {
        "id": "Yn8xAvC0BhyF"
      },
      "source": [
        "\n",
        "# Linear Regression"
      ],
      "id": "Yn8xAvC0BhyF"
    },
    {
      "cell_type": "code",
      "execution_count": 16,
      "metadata": {
        "colab": {
          "base_uri": "https://localhost:8080/",
          "height": 75
        },
        "id": "s6MnQ7GsBhyF",
        "outputId": "f84cf9f7-345d-4166-e9a3-c16a716a0435"
      },
      "outputs": [
        {
          "output_type": "execute_result",
          "data": {
            "text/plain": [
              "LinearRegression()"
            ],
            "text/html": [
              "<style>#sk-container-id-1 {color: black;background-color: white;}#sk-container-id-1 pre{padding: 0;}#sk-container-id-1 div.sk-toggleable {background-color: white;}#sk-container-id-1 label.sk-toggleable__label {cursor: pointer;display: block;width: 100%;margin-bottom: 0;padding: 0.3em;box-sizing: border-box;text-align: center;}#sk-container-id-1 label.sk-toggleable__label-arrow:before {content: \"▸\";float: left;margin-right: 0.25em;color: #696969;}#sk-container-id-1 label.sk-toggleable__label-arrow:hover:before {color: black;}#sk-container-id-1 div.sk-estimator:hover label.sk-toggleable__label-arrow:before {color: black;}#sk-container-id-1 div.sk-toggleable__content {max-height: 0;max-width: 0;overflow: hidden;text-align: left;background-color: #f0f8ff;}#sk-container-id-1 div.sk-toggleable__content pre {margin: 0.2em;color: black;border-radius: 0.25em;background-color: #f0f8ff;}#sk-container-id-1 input.sk-toggleable__control:checked~div.sk-toggleable__content {max-height: 200px;max-width: 100%;overflow: auto;}#sk-container-id-1 input.sk-toggleable__control:checked~label.sk-toggleable__label-arrow:before {content: \"▾\";}#sk-container-id-1 div.sk-estimator input.sk-toggleable__control:checked~label.sk-toggleable__label {background-color: #d4ebff;}#sk-container-id-1 div.sk-label input.sk-toggleable__control:checked~label.sk-toggleable__label {background-color: #d4ebff;}#sk-container-id-1 input.sk-hidden--visually {border: 0;clip: rect(1px 1px 1px 1px);clip: rect(1px, 1px, 1px, 1px);height: 1px;margin: -1px;overflow: hidden;padding: 0;position: absolute;width: 1px;}#sk-container-id-1 div.sk-estimator {font-family: monospace;background-color: #f0f8ff;border: 1px dotted black;border-radius: 0.25em;box-sizing: border-box;margin-bottom: 0.5em;}#sk-container-id-1 div.sk-estimator:hover {background-color: #d4ebff;}#sk-container-id-1 div.sk-parallel-item::after {content: \"\";width: 100%;border-bottom: 1px solid gray;flex-grow: 1;}#sk-container-id-1 div.sk-label:hover label.sk-toggleable__label {background-color: #d4ebff;}#sk-container-id-1 div.sk-serial::before {content: \"\";position: absolute;border-left: 1px solid gray;box-sizing: border-box;top: 0;bottom: 0;left: 50%;z-index: 0;}#sk-container-id-1 div.sk-serial {display: flex;flex-direction: column;align-items: center;background-color: white;padding-right: 0.2em;padding-left: 0.2em;position: relative;}#sk-container-id-1 div.sk-item {position: relative;z-index: 1;}#sk-container-id-1 div.sk-parallel {display: flex;align-items: stretch;justify-content: center;background-color: white;position: relative;}#sk-container-id-1 div.sk-item::before, #sk-container-id-1 div.sk-parallel-item::before {content: \"\";position: absolute;border-left: 1px solid gray;box-sizing: border-box;top: 0;bottom: 0;left: 50%;z-index: -1;}#sk-container-id-1 div.sk-parallel-item {display: flex;flex-direction: column;z-index: 1;position: relative;background-color: white;}#sk-container-id-1 div.sk-parallel-item:first-child::after {align-self: flex-end;width: 50%;}#sk-container-id-1 div.sk-parallel-item:last-child::after {align-self: flex-start;width: 50%;}#sk-container-id-1 div.sk-parallel-item:only-child::after {width: 0;}#sk-container-id-1 div.sk-dashed-wrapped {border: 1px dashed gray;margin: 0 0.4em 0.5em 0.4em;box-sizing: border-box;padding-bottom: 0.4em;background-color: white;}#sk-container-id-1 div.sk-label label {font-family: monospace;font-weight: bold;display: inline-block;line-height: 1.2em;}#sk-container-id-1 div.sk-label-container {text-align: center;}#sk-container-id-1 div.sk-container {/* jupyter's `normalize.less` sets `[hidden] { display: none; }` but bootstrap.min.css set `[hidden] { display: none !important; }` so we also need the `!important` here to be able to override the default hidden behavior on the sphinx rendered scikit-learn.org. See: https://github.com/scikit-learn/scikit-learn/issues/21755 */display: inline-block !important;position: relative;}#sk-container-id-1 div.sk-text-repr-fallback {display: none;}</style><div id=\"sk-container-id-1\" class=\"sk-top-container\"><div class=\"sk-text-repr-fallback\"><pre>LinearRegression()</pre><b>In a Jupyter environment, please rerun this cell to show the HTML representation or trust the notebook. <br />On GitHub, the HTML representation is unable to render, please try loading this page with nbviewer.org.</b></div><div class=\"sk-container\" hidden><div class=\"sk-item\"><div class=\"sk-estimator sk-toggleable\"><input class=\"sk-toggleable__control sk-hidden--visually\" id=\"sk-estimator-id-1\" type=\"checkbox\" checked><label for=\"sk-estimator-id-1\" class=\"sk-toggleable__label sk-toggleable__label-arrow\">LinearRegression</label><div class=\"sk-toggleable__content\"><pre>LinearRegression()</pre></div></div></div></div></div>"
            ]
          },
          "metadata": {},
          "execution_count": 16
        }
      ],
      "source": [
        "model = LinearRegression()\n",
        "model.fit(X_train.values.reshape(-1, 1), y_train)\n"
      ],
      "id": "s6MnQ7GsBhyF"
    },
    {
      "cell_type": "code",
      "execution_count": 17,
      "metadata": {
        "colab": {
          "base_uri": "https://localhost:8080/"
        },
        "id": "TKmBhTQ7BhyG",
        "outputId": "1eab0d69-8cb0-4188-c0db-1ba498df49ab"
      },
      "outputs": [
        {
          "output_type": "stream",
          "name": "stdout",
          "text": [
            "<bound method LinearRegression.fit of LinearRegression()>\n"
          ]
        }
      ],
      "source": [
        "print(model.fit)"
      ],
      "id": "TKmBhTQ7BhyG"
    },
    {
      "cell_type": "code",
      "execution_count": 18,
      "metadata": {
        "id": "XqcNNzM5BhyG"
      },
      "outputs": [],
      "source": [
        "#next_timestamps = X_test[-1:].values.reshape(-1, 1) + np.array([3600, 7200, 10800])  # Add 1, 2, 3 hours to the last timestamp in the test set\n",
        "\n",
        "predicted_values = model.predict(X_test.values.reshape(-1,1))\n"
      ],
      "id": "XqcNNzM5BhyG"
    },
    {
      "cell_type": "code",
      "execution_count": 18,
      "metadata": {
        "id": "OIaK_8CrBhyG"
      },
      "outputs": [],
      "source": [],
      "id": "OIaK_8CrBhyG"
    },
    {
      "cell_type": "code",
      "execution_count": 19,
      "metadata": {
        "colab": {
          "base_uri": "https://localhost:8080/"
        },
        "id": "0RFodschBhyH",
        "outputId": "ed6872e2-db32-4562-e149-d97103249dee"
      },
      "outputs": [
        {
          "output_type": "stream",
          "name": "stdout",
          "text": [
            "MAE: 2.796123668417529\n"
          ]
        }
      ],
      "source": [
        "from sklearn.metrics import mean_absolute_error\n",
        "y_test = test_data['value']\n",
        "actual_values = y_test.values.reshape(-1,1)\n",
        "# Assuming you have the actual values in a variable named 'actual_values'\n",
        "mae = mean_absolute_error(actual_values, predicted_values)\n",
        "print(\"MAE:\", mae)\n"
      ],
      "id": "0RFodschBhyH"
    },
    {
      "cell_type": "code",
      "execution_count": 20,
      "metadata": {
        "colab": {
          "base_uri": "https://localhost:8080/"
        },
        "id": "vD0Dq1AtBhyH",
        "outputId": "a3782490-5353-48b7-e534-1dc8178bee08"
      },
      "outputs": [
        {
          "output_type": "stream",
          "name": "stdout",
          "text": [
            "MSE: 9.231052374734372\n"
          ]
        }
      ],
      "source": [
        "from sklearn.metrics import mean_squared_error\n",
        "\n",
        "mse = mean_squared_error(actual_values, predicted_values)\n",
        "print(\"MSE:\", mse)\n"
      ],
      "id": "vD0Dq1AtBhyH"
    },
    {
      "cell_type": "code",
      "execution_count": 21,
      "metadata": {
        "colab": {
          "base_uri": "https://localhost:8080/"
        },
        "id": "SKRZgcqKBhyH",
        "outputId": "32221752-6b3e-495d-9163-c8fffd8d4faa"
      },
      "outputs": [
        {
          "output_type": "stream",
          "name": "stdout",
          "text": [
            "RMSE: 3.038264697937685\n"
          ]
        }
      ],
      "source": [
        "rmse = np.sqrt(mse)\n",
        "print(\"RMSE:\", rmse)\n"
      ],
      "id": "SKRZgcqKBhyH"
    },
    {
      "cell_type": "code",
      "execution_count": 22,
      "metadata": {
        "colab": {
          "base_uri": "https://localhost:8080/"
        },
        "id": "4Rx4mg1PBhyH",
        "outputId": "08fe1ab5-1686-4b19-876b-dfd93e96577d"
      },
      "outputs": [
        {
          "output_type": "stream",
          "name": "stdout",
          "text": [
            "R2 Score: -0.9267189767095025\n"
          ]
        }
      ],
      "source": [
        "from sklearn.metrics import r2_score\n",
        "\n",
        "r2 = r2_score(actual_values, predicted_values)\n",
        "print(\"R2 Score:\", r2)\n"
      ],
      "id": "4Rx4mg1PBhyH"
    },
    {
      "cell_type": "code",
      "execution_count": 23,
      "metadata": {
        "colab": {
          "base_uri": "https://localhost:8080/",
          "height": 458
        },
        "id": "BGBSQuxoBhyW",
        "outputId": "11f59c65-0f3c-4a76-a34e-cd16f8b874a8"
      },
      "outputs": [
        {
          "output_type": "display_data",
          "data": {
            "text/plain": [
              "<Figure size 640x480 with 1 Axes>"
            ],
            "image/png": "[encoded data removed]"
          },
          "metadata": {}
        }
      ],
      "source": [
        "data.plot(x='datetime',y='value')\n",
        "\n",
        "plt.xlabel('Datetime')\n",
        "plt.ylabel('Value')\n",
        "plt.title('Time Series Data')\n",
        "plt.show()\n"
      ],
      "id": "BGBSQuxoBhyW"
    },
    {
      "cell_type": "markdown",
      "metadata": {
        "id": "fqxxbkA_BhyW"
      },
      "source": [
        "# ARIMA"
      ],
      "id": "fqxxbkA_BhyW"
    },
    {
      "cell_type": "code",
      "execution_count": 24,
      "metadata": {
        "id": "OTgA4uoRBhyW"
      },
      "outputs": [],
      "source": [
        "from statsmodels.tsa.arima.model import ARIMA\n",
        "model = ARIMA(data['value'], order=(1, 3, 1))  # Replace p, d, q with appropriate values\n",
        "model_fit = model.fit()\n"
      ],
      "id": "OTgA4uoRBhyW"
    },
    {
      "cell_type": "code",
      "execution_count": 25,
      "metadata": {
        "colab": {
          "base_uri": "https://localhost:8080/"
        },
        "id": "_obhIKYJBhyX",
        "outputId": "efedba12-d1ed-4637-88f4-a8d80b6f4b35"
      },
      "outputs": [
        {
          "output_type": "stream",
          "name": "stdout",
          "text": [
            "<class 'pandas.core.series.Series'>\n",
            "<class 'pandas.core.frame.DataFrame'>\n",
            "MAE -4.731842301326054\n",
            "MSE: 4.912040485572956\n",
            "RMSE: 2.2163123619140324\n"
          ]
        }
      ],
      "source": [
        "forecast = model_fit.forecast(steps=3)  # Replace 3 with the number of steps you want to forecast\n",
        "print(type(forecast))\n",
        "print(type(data_forecast))\n",
        "val_forecast = forecast.values\n",
        "val_data_forecast = data_forecast['value'].values\n",
        "\n",
        "mse = mean_squared_error(val_forecast, val_data_forecast)\n",
        "rmse = np.sqrt(mse)\n",
        "print('MAE', np.sum(val_forecast-val_data_forecast))\n",
        "print('MSE:', mse)\n",
        "print(\"RMSE:\", rmse)\n",
        "\n"
      ],
      "id": "_obhIKYJBhyX"
    },
    {
      "cell_type": "code",
      "execution_count": 27,
      "metadata": {
        "id": "-v8Yy6qeBhyX"
      },
      "outputs": [],
      "source": [
        "#print('y_test series:', y_test)\n",
        "#print('forecast series:', forecast)\n",
        "# Concatenate the forecasted values DataFrame with the test series DataFrame\n",
        "combined_data = pd.concat([y_test, forecast])"
      ],
      "id": "-v8Yy6qeBhyX"
    },
    {
      "cell_type": "code",
      "execution_count": 28,
      "metadata": {
        "colab": {
          "base_uri": "https://localhost:8080/",
          "height": 472
        },
        "id": "MvGcxpjvBhyY",
        "outputId": "2747b5b4-32ba-49e1-d3e2-fd38fd3685b7"
      },
      "outputs": [
        {
          "output_type": "display_data",
          "data": {
            "text/plain": [
              "<Figure size 640x480 with 1 Axes>"
            ],
            "image/png": "[encoded data removed]"
          },
          "metadata": {}
        }
      ],
      "source": [
        "# Plot the combined_data\n",
        "plt.plot(y_train.index, y_train,color='gray',label='Train')\n",
        "plt.plot(y_test.index, y_test,label='Test')\n",
        "plt.plot(forecast.index, forecast,label='Forecast')\n",
        "plt.xlabel('Index')\n",
        "plt.ylabel('Ozone')\n",
        "plt.title('ARIMA model  01MAY - 05MAY, forecast: 09:00-11:00 ')\n",
        "plt.show()"
      ],
      "id": "MvGcxpjvBhyY"
    },
    {
      "cell_type": "markdown",
      "metadata": {
        "id": "ijuUGRC6BhyY"
      },
      "source": [
        "# RNN method"
      ],
      "id": "ijuUGRC6BhyY"
    },
    {
      "cell_type": "code",
      "execution_count": 56,
      "metadata": {
        "id": "RAICmpPyBhyZ"
      },
      "outputs": [],
      "source": [
        "from sklearn.preprocessing import MinMaxScaler\n",
        "from tensorflow.keras.models import Sequential\n",
        "from tensorflow.keras.layers import LSTM, Dense, Dropout\n"
      ],
      "id": "RAICmpPyBhyZ"
    },
    {
      "cell_type": "code",
      "source": [
        "data.head()"
      ],
      "metadata": {
        "colab": {
          "base_uri": "https://localhost:8080/",
          "height": 206
        },
        "id": "4jpTxYb3KL_W",
        "outputId": "61687fe7-15ed-4c07-a9bc-c394189968a6"
      },
      "id": "4jpTxYb3KL_W",
      "execution_count": 30,
      "outputs": [
        {
          "output_type": "execute_result",
          "data": {
            "text/plain": [
              "                   datetime      value\n",
              "0 2010-05-01 00:00:00+00:00  34.560498\n",
              "1 2010-05-01 01:00:00+00:00  31.578120\n",
              "2 2010-05-01 02:00:00+00:00  23.909148\n",
              "3 2010-05-01 03:00:00+00:00  24.961752\n",
              "4 2010-05-01 04:00:00+00:00  35.237172"
            ],
            "text/html": [
              "\n",
              "  <div id=\"df-b5c6ee01-140e-4d73-b7c1-c5f54e5d8a72\">\n",
              "    <div class=\"colab-df-container\">\n",
              "      <div>\n",
              "<style scoped>\n",
              "    .dataframe tbody tr th:only-of-type {\n",
              "        vertical-align: middle;\n",
              "    }\n",
              "\n",
              "    .dataframe tbody tr th {\n",
              "        vertical-align: top;\n",
              "    }\n",
              "\n",
              "    .dataframe thead th {\n",
              "        text-align: right;\n",
              "    }\n",
              "</style>\n",
              "<table border=\"1\" class=\"dataframe\">\n",
              "  <thead>\n",
              "    <tr style=\"text-align: right;\">\n",
              "      <th></th>\n",
              "      <th>datetime</th>\n",
              "      <th>value</th>\n",
              "    </tr>\n",
              "  </thead>\n",
              "  <tbody>\n",
              "    <tr>\n",
              "      <th>0</th>\n",
              "      <td>2010-05-01 00:00:00+00:00</td>\n",
              "      <td>34.560498</td>\n",
              "    </tr>\n",
              "    <tr>\n",
              "      <th>1</th>\n",
              "      <td>2010-05-01 01:00:00+00:00</td>\n",
              "      <td>31.578120</td>\n",
              "    </tr>\n",
              "    <tr>\n",
              "      <th>2</th>\n",
              "      <td>2010-05-01 02:00:00+00:00</td>\n",
              "      <td>23.909148</td>\n",
              "    </tr>\n",
              "    <tr>\n",
              "      <th>3</th>\n",
              "      <td>2010-05-01 03:00:00+00:00</td>\n",
              "      <td>24.961752</td>\n",
              "    </tr>\n",
              "    <tr>\n",
              "      <th>4</th>\n",
              "      <td>2010-05-01 04:00:00+00:00</td>\n",
              "      <td>35.237172</td>\n",
              "    </tr>\n",
              "  </tbody>\n",
              "</table>\n",
              "</div>\n",
              "      <button class=\"colab-df-convert\" onclick=\"convertToInteractive('df-b5c6ee01-140e-4d73-b7c1-c5f54e5d8a72')\"\n",
              "              title=\"Convert this dataframe to an interactive table.\"\n",
              "              style=\"display:none;\">\n",
              "        \n",
              "  <svg xmlns=\"http://www.w3.org/2000/svg\" height=\"24px\"viewBox=\"0 0 24 24\"\n",
              "       width=\"24px\">\n",
              "    <path d=\"M0 0h24v24H0V0z\" fill=\"none\"/>\n",
              "    <path d=\"M18.56 5.44l.94 2.06.94-2.06 2.06-.94-2.06-.94-.94-2.06-.94 2.06-2.06.94zm-11 1L8.5 8.5l.94-2.06 2.06-.94-2.06-.94L8.5 2.5l-.94 2.06-2.06.94zm10 10l.94 2.06.94-2.06 2.06-.94-2.06-.94-.94-2.06-.94 2.06-2.06.94z\"/><path d=\"M17.41 7.96l-1.37-1.37c-.4-.4-.92-.59-1.43-.59-.52 0-1.04.2-1.43.59L10.3 9.45l-7.72 7.72c-.78.78-.78 2.05 0 2.83L4 21.41c.39.39.9.59 1.41.59.51 0 1.02-.2 1.41-.59l7.78-7.78 2.81-2.81c.8-.78.8-2.07 0-2.86zM5.41 20L4 18.59l7.72-7.72 1.47 1.35L5.41 20z\"/>\n",
              "  </svg>\n",
              "      </button>\n",
              "      \n",
              "  <style>\n",
              "    .colab-df-container {\n",
              "      display:flex;\n",
              "      flex-wrap:wrap;\n",
              "      gap: 12px;\n",
              "    }\n",
              "\n",
              "    .colab-df-convert {\n",
              "      background-color: #E8F0FE;\n",
              "      border: none;\n",
              "      border-radius: 50%;\n",
              "      cursor: pointer;\n",
              "      display: none;\n",
              "      fill: #1967D2;\n",
              "      height: 32px;\n",
              "      padding: 0 0 0 0;\n",
              "      width: 32px;\n",
              "    }\n",
              "\n",
              "    .colab-df-convert:hover {\n",
              "      background-color: #E2EBFA;\n",
              "      box-shadow: 0px 1px 2px rgba(60, 64, 67, 0.3), 0px 1px 3px 1px rgba(60, 64, 67, 0.15);\n",
              "      fill: #174EA6;\n",
              "    }\n",
              "\n",
              "    [theme=dark] .colab-df-convert {\n",
              "      background-color: #3B4455;\n",
              "      fill: #D2E3FC;\n",
              "    }\n",
              "\n",
              "    [theme=dark] .colab-df-convert:hover {\n",
              "      background-color: #434B5C;\n",
              "      box-shadow: 0px 1px 3px 1px rgba(0, 0, 0, 0.15);\n",
              "      filter: drop-shadow(0px 1px 2px rgba(0, 0, 0, 0.3));\n",
              "      fill: #FFFFFF;\n",
              "    }\n",
              "  </style>\n",
              "\n",
              "      <script>\n",
              "        const buttonEl =\n",
              "          document.querySelector('#df-b5c6ee01-140e-4d73-b7c1-c5f54e5d8a72 button.colab-df-convert');\n",
              "        buttonEl.style.display =\n",
              "          google.colab.kernel.accessAllowed ? 'block' : 'none';\n",
              "\n",
              "        async function convertToInteractive(key) {\n",
              "          const element = document.querySelector('#df-b5c6ee01-140e-4d73-b7c1-c5f54e5d8a72');\n",
              "          const dataTable =\n",
              "            await google.colab.kernel.invokeFunction('convertToInteractive',\n",
              "                                                     [key], {});\n",
              "          if (!dataTable) return;\n",
              "\n",
              "          const docLinkHtml = 'Like what you see? Visit the ' +\n",
              "            '<a target=\"_blank\" href=https://colab.research.google.com/notebooks/data_table.ipynb>data table notebook</a>'\n",
              "            + ' to learn more about interactive tables.';\n",
              "          element.innerHTML = '';\n",
              "          dataTable['output_type'] = 'display_data';\n",
              "          await google.colab.output.renderOutput(dataTable, element);\n",
              "          const docLink = document.createElement('div');\n",
              "          docLink.innerHTML = docLinkHtml;\n",
              "          element.appendChild(docLink);\n",
              "        }\n",
              "      </script>\n",
              "    </div>\n",
              "  </div>\n",
              "  "
            ]
          },
          "metadata": {},
          "execution_count": 30
        }
      ]
    },
    {
      "cell_type": "code",
      "execution_count": 57,
      "metadata": {
        "colab": {
          "base_uri": "https://localhost:8080/"
        },
        "id": "rK3KbSreBhyZ",
        "outputId": "0cebf221-d029-43fa-a1e5-6b3728146d74"
      },
      "outputs": [
        {
          "output_type": "stream",
          "name": "stdout",
          "text": [
            "values[:4] [34.560498 31.57812  23.909148 24.961752]\n",
            "scaler MinMaxScaler()\n",
            "normalized_values[:4] [[0.49418605]\n",
            " [0.35581395]\n",
            " [0.        ]\n",
            " [0.04883721]]\n"
          ]
        }
      ],
      "source": [
        "# Assuming you have the time series data stored in a DataFrame called 'data'\n",
        "\n",
        "# Extract the values from the 'value' column as a NumPy array\n",
        "values = data['value'].values\n",
        "print('values[:4]',values[:4])\n",
        "\n",
        "# Normalize the values to a range between 0 and 1\n",
        "scaler = MinMaxScaler()\n",
        "print('scaler',scaler)\n",
        "normalized_values = scaler.fit_transform(values.reshape(-1, 1))\n",
        "print('normalized_values[:4]',normalized_values[:4])\n"
      ],
      "id": "rK3KbSreBhyZ"
    },
    {
      "cell_type": "code",
      "source": [
        "# Define the size of the training set\n",
        "train_size = int(len(normalized_values) * 0.8)  # 80% for training\n",
        "\n",
        "# Split the data into training and testing sets\n",
        "train_data = normalized_values[:train_size]\n",
        "test_data = normalized_values[train_size:]\n"
      ],
      "metadata": {
        "id": "uDqCaG2DDdSw"
      },
      "id": "uDqCaG2DDdSw",
      "execution_count": 58,
      "outputs": []
    },
    {
      "cell_type": "code",
      "source": [
        "# Define the number of previous time steps to consider for each prediction\n",
        "time_steps = 14\n",
        "\n",
        "# Create input and output sequences for training and testing\n",
        "def create_sequences(data, time_steps):\n",
        "    X = []\n",
        "    y = []\n",
        "    for i in range(len(data) - time_steps):\n",
        "\n",
        "        X.append(data[i:i + time_steps])\n",
        "        y.append(data[i + time_steps])\n",
        "\n",
        "    return np.array(X), np.array(y)\n",
        "\n",
        "# Create sequences for training and testing\n",
        "X_train, y_train = create_sequences(train_data, time_steps)\n",
        "X_test, y_test = create_sequences(test_data, time_steps)\n",
        "\n",
        "\n"
      ],
      "metadata": {
        "id": "8HNiLercDi8g"
      },
      "id": "8HNiLercDi8g",
      "execution_count": 66,
      "outputs": []
    },
    {
      "cell_type": "code",
      "source": [
        "#print('data[1:21 ',data[0:21])\n",
        "#print('data[1]',data[0:21])\n",
        "#print('X_test[:10]',X_test[:2])\n",
        "#print('y_test[:10] ',y_test[:2])\n",
        "#print('len(X_test),len(y_test)',len(X_test),len(y_test))\n",
        "#print('',type(X_test))"
      ],
      "metadata": {
        "id": "pEI9G4L3nJcn"
      },
      "id": "pEI9G4L3nJcn",
      "execution_count": 49,
      "outputs": []
    },
    {
      "cell_type": "code",
      "source": [
        "# Define the RNN model architecture\n",
        "model = Sequential()\n",
        "model.add(LSTM(144, input_shape=(time_steps, 1)))\n",
        "model.add(Dropout(0.2))  # Add dropout layer with a dropout rate of 0.2\n",
        "model.add(Dense(1))\n",
        "model.compile(optimizer='adam', loss='mean_squared_error')\n",
        "model.summary()\n",
        "\n",
        "# Train the model\n",
        "#model.fit(X_train, y_train, epochs=50, batch_size=16)\n"
      ],
      "metadata": {
        "id": "UCjeINHeDrvi",
        "colab": {
          "base_uri": "https://localhost:8080/"
        },
        "outputId": "4828dfa6-7601-499a-c65c-49a3a261004b"
      },
      "id": "UCjeINHeDrvi",
      "execution_count": 67,
      "outputs": [
        {
          "output_type": "stream",
          "name": "stdout",
          "text": [
            "Model: \"sequential_5\"\n",
            "_________________________________________________________________\n",
            " Layer (type)                Output Shape              Param #   \n",
            "=================================================================\n",
            " lstm_5 (LSTM)               (None, 144)               84096     \n",
            "                                                                 \n",
            " dropout_5 (Dropout)         (None, 144)               0         \n",
            "                                                                 \n",
            " dense_5 (Dense)             (None, 1)                 145       \n",
            "                                                                 \n",
            "=================================================================\n",
            "Total params: 84,241\n",
            "Trainable params: 84,241\n",
            "Non-trainable params: 0\n",
            "_________________________________________________________________\n"
          ]
        }
      ]
    },
    {
      "cell_type": "code",
      "source": [
        "# Train the model and store the training history\n",
        "history = model.fit(X_train, y_train, epochs=20, batch_size=16)\n",
        "\n",
        "# Access the loss values from the history object\n",
        "loss = history.history['loss']\n",
        "\n",
        "# Plot the loss curve\n",
        "plt.plot(range(len(loss)), loss)\n",
        "plt.xlabel('Epochs')\n",
        "plt.ylabel('Loss')\n",
        "plt.title('Training Loss vs. Epochs')\n",
        "plt.show()\n"
      ],
      "metadata": {
        "colab": {
          "base_uri": "https://localhost:8080/",
          "height": 1000
        },
        "id": "_PuQM4aHFFHg",
        "outputId": "7f82bd2b-1407-48ba-ff95-0af5c8d827a0"
      },
      "id": "_PuQM4aHFFHg",
      "execution_count": 68,
      "outputs": [
        {
          "output_type": "stream",
          "name": "stdout",
          "text": [
            "Epoch 1/20\n",
            "5/5 [==============================] - 5s 19ms/step - loss: 0.4203\n",
            "Epoch 2/20\n",
            "5/5 [==============================] - 0s 18ms/step - loss: 0.0615\n",
            "Epoch 3/20\n",
            "5/5 [==============================] - 0s 30ms/step - loss: 0.1048\n",
            "Epoch 4/20\n",
            "5/5 [==============================] - 0s 28ms/step - loss: 0.0536\n",
            "Epoch 5/20\n",
            "5/5 [==============================] - 0s 28ms/step - loss: 0.0737\n",
            "Epoch 6/20\n",
            "5/5 [==============================] - 0s 28ms/step - loss: 0.0552\n",
            "Epoch 7/20\n",
            "5/5 [==============================] - 0s 27ms/step - loss: 0.0438\n",
            "Epoch 8/20\n",
            "5/5 [==============================] - 0s 28ms/step - loss: 0.0437\n",
            "Epoch 9/20\n",
            "5/5 [==============================] - 0s 28ms/step - loss: 0.0420\n",
            "Epoch 10/20\n",
            "5/5 [==============================] - 0s 30ms/step - loss: 0.0429\n",
            "Epoch 11/20\n",
            "5/5 [==============================] - 0s 28ms/step - loss: 0.0425\n",
            "Epoch 12/20\n",
            "5/5 [==============================] - 0s 28ms/step - loss: 0.0383\n",
            "Epoch 13/20\n",
            "5/5 [==============================] - 0s 27ms/step - loss: 0.0443\n",
            "Epoch 14/20\n",
            "5/5 [==============================] - 0s 30ms/step - loss: 0.0460\n",
            "Epoch 15/20\n",
            "5/5 [==============================] - 0s 28ms/step - loss: 0.0367\n",
            "Epoch 16/20\n",
            "5/5 [==============================] - 0s 27ms/step - loss: 0.0425\n",
            "Epoch 17/20\n",
            "5/5 [==============================] - 0s 30ms/step - loss: 0.0477\n",
            "Epoch 18/20\n",
            "5/5 [==============================] - 0s 27ms/step - loss: 0.0411\n",
            "Epoch 19/20\n",
            "5/5 [==============================] - 0s 27ms/step - loss: 0.0407\n",
            "Epoch 20/20\n",
            "5/5 [==============================] - 0s 27ms/step - loss: 0.0387\n"
          ]
        },
        {
          "output_type": "display_data",
          "data": {
            "text/plain": [
              "<Figure size 640x480 with 1 Axes>"
            ],
            "image/png": "[encoded data removed]"
          },
          "metadata": {}
        }
      ]
    },
    {
      "cell_type": "code",
      "source": [
        "# Generate predictions on the test data\n",
        "y_pred = model.predict(X_test)\n",
        "#print('X_test',X_test)\n",
        "#print('y_pred',y_pred)\n",
        "# Inverse transform the normalized predictions to the original scale\n",
        "y_pred = scaler.inverse_transform(y_pred)\n",
        "\n",
        "# Inverse transform the normalized test data to the original scale\n",
        "y_test = scaler.inverse_transform(y_test)\n"
      ],
      "metadata": {
        "colab": {
          "base_uri": "https://localhost:8080/"
        },
        "id": "efrD00dVDwgs",
        "outputId": "e68d9fd6-3fb9-4382-b7b3-90dda2663967"
      },
      "id": "efrD00dVDwgs",
      "execution_count": 69,
      "outputs": [
        {
          "output_type": "stream",
          "name": "stdout",
          "text": [
            "1/1 [==============================] - 0s 427ms/step\n"
          ]
        }
      ]
    },
    {
      "cell_type": "code",
      "source": [
        "# Calculate evaluation metrics such as RMSE or MAE\n",
        "from sklearn.metrics import mean_squared_error, mean_absolute_error\n",
        "\n",
        "rmse = np.sqrt(mean_squared_error(y_test, y_pred))\n",
        "mae = mean_absolute_error(y_test, y_pred)\n",
        "\n",
        "print(\"RMSE:\", rmse)\n",
        "print(\"MAE:\", mae)\n"
      ],
      "metadata": {
        "colab": {
          "base_uri": "https://localhost:8080/"
        },
        "id": "RYfMCke5D4Vf",
        "outputId": "b62f1e60-df3e-4ac9-8ce2-425998e9d515"
      },
      "id": "RYfMCke5D4Vf",
      "execution_count": 70,
      "outputs": [
        {
          "output_type": "stream",
          "name": "stdout",
          "text": [
            "RMSE: 0.8799474341217894\n",
            "MAE: 0.7700454313616082\n"
          ]
        }
      ]
    },
    {
      "cell_type": "code",
      "source": [
        "# Plot the actual values and the predictions\n",
        "plt.plot(y_test, label='Observed (test sequence)',linestyle='dotted')\n",
        "plt.plot(y_pred, label='Predicted')\n",
        "plt.xlabel('Time')\n",
        "plt.ylabel('Value')\n",
        "plt.title('TOAR Ozone time series @Westerland')\n",
        "plt.legend()\n",
        "plt.show()\n"
      ],
      "metadata": {
        "colab": {
          "base_uri": "https://localhost:8080/",
          "height": 472
        },
        "id": "pHk-lkfhD8EB",
        "outputId": "72e5fbae-56d3-4e8c-be76-5775e60e7d20"
      },
      "id": "pHk-lkfhD8EB",
      "execution_count": 71,
      "outputs": [
        {
          "output_type": "display_data",
          "data": {
            "text/plain": [
              "<Figure size 640x480 with 1 Axes>"
            ],
            "image/png": "[encoded data removed]"
          },
          "metadata": {}
        }
      ]
    },
    {
      "cell_type": "code",
      "source": [
        "# Assuming you have the time series data stored in a DataFrame called 'data'\n",
        "\n",
        "# Extract the values from the 'value' column as a NumPy array\n",
        "values = data['value'].values\n",
        "\n",
        "# Normalize the values to a range between 0 and 1\n",
        "scaler = MinMaxScaler()\n",
        "normalized_values = scaler.fit_transform(values.reshape(-1, 1))\n",
        "\n",
        "# Create input sequence for prediction\n",
        "def create_input_sequence(data, time_steps):\n",
        "    sequence = data[-time_steps:]  # Take the last 'time_steps' values as input\n",
        "    return np.array(sequence).reshape(1, -1, 1)\n",
        "\n",
        "# Create input sequence for prediction using the last 'time_steps' values\n",
        "input_sequence = create_input_sequence(normalized_values, time_steps)\n"
      ],
      "metadata": {
        "id": "bmWbPtP6D-1k"
      },
      "id": "bmWbPtP6D-1k",
      "execution_count": 72,
      "outputs": []
    },
    {
      "cell_type": "code",
      "source": [
        "# Generate the forecast for future points\n",
        "forecast = model.predict(input_sequence)\n",
        "\n",
        "# Inverse transform the normalized forecast to the original scale\n",
        "forecast = scaler.inverse_transform(forecast)\n"
      ],
      "metadata": {
        "colab": {
          "base_uri": "https://localhost:8080/"
        },
        "id": "Z4t3mN5yJ8qe",
        "outputId": "fdaf8581-887e-4dcc-ff8c-8ad4af2d8439"
      },
      "id": "Z4t3mN5yJ8qe",
      "execution_count": 73,
      "outputs": [
        {
          "output_type": "stream",
          "name": "stdout",
          "text": [
            "1/1 [==============================] - 0s 24ms/step\n"
          ]
        }
      ]
    },
    {
      "cell_type": "code",
      "source": [
        "data.values.reshape(-1,1)\n"
      ],
      "metadata": {
        "colab": {
          "base_uri": "https://localhost:8080/"
        },
        "id": "xaVQizUKKcZ0",
        "outputId": "96adf6d3-3aa6-4419-8d80-cadd49ea2752"
      },
      "id": "xaVQizUKKcZ0",
      "execution_count": 75,
      "outputs": [
        {
          "output_type": "execute_result",
          "data": {
            "text/plain": [
              "array([[Timestamp('2010-05-01 00:00:00+0000', tz='UTC')],\n",
              "       [34.560498],\n",
              "       [datetime.time(0, 0)],\n",
              "       [Timestamp('2010-05-01 01:00:00+0000', tz='UTC')],\n",
              "       [31.57812],\n",
              "       [datetime.time(1, 0)],\n",
              "       [Timestamp('2010-05-01 02:00:00+0000', tz='UTC')],\n",
              "       [23.909148],\n",
              "       [datetime.time(2, 0)],\n",
              "       [Timestamp('2010-05-01 03:00:00+0000', tz='UTC')],\n",
              "       [24.961752],\n",
              "       [datetime.time(3, 0)],\n",
              "       [Timestamp('2010-05-01 04:00:00+0000', tz='UTC')],\n",
              "       [35.237172],\n",
              "       [datetime.time(4, 0)],\n",
              "       [Timestamp('2010-05-01 05:00:00+0000', tz='UTC')],\n",
              "       [33.733452],\n",
              "       [datetime.time(5, 0)],\n",
              "       [Timestamp('2010-05-01 06:00:00+0000', tz='UTC')],\n",
              "       [31.3275],\n",
              "       [datetime.time(6, 0)],\n",
              "       [Timestamp('2010-05-01 07:00:00+0000', tz='UTC')],\n",
              "       [33.733452],\n",
              "       [datetime.time(7, 0)],\n",
              "       [Timestamp('2010-05-01 08:00:00+0000', tz='UTC')],\n",
              "       [35.111862],\n",
              "       [datetime.time(8, 0)],\n",
              "       [Timestamp('2010-05-01 09:00:00+0000', tz='UTC')],\n",
              "       [35.437668],\n",
              "       [datetime.time(9, 0)],\n",
              "       [Timestamp('2010-05-01 10:00:00+0000', tz='UTC')],\n",
              "       [39.998952],\n",
              "       [datetime.time(10, 0)],\n",
              "       [Timestamp('2010-05-01 11:00:00+0000', tz='UTC')],\n",
              "       [40.575378],\n",
              "       [datetime.time(11, 0)],\n",
              "       [Timestamp('2010-05-01 12:00:00+0000', tz='UTC')],\n",
              "       [33.382584],\n",
              "       [datetime.time(12, 0)],\n",
              "       [Timestamp('2010-05-01 13:00:00+0000', tz='UTC')],\n",
              "       [31.57812],\n",
              "       [datetime.time(13, 0)],\n",
              "       [Timestamp('2010-05-01 14:00:00+0000', tz='UTC')],\n",
              "       [42.254532],\n",
              "       [datetime.time(14, 0)],\n",
              "       [Timestamp('2010-05-01 15:00:00+0000', tz='UTC')],\n",
              "       [43.73319],\n",
              "       [datetime.time(15, 0)],\n",
              "       [Timestamp('2010-05-01 17:00:00+0000', tz='UTC')],\n",
              "       [45.462468],\n",
              "       [datetime.time(17, 0)],\n",
              "       [Timestamp('2010-05-01 18:00:00+0000', tz='UTC')],\n",
              "       [44.660484],\n",
              "       [datetime.time(18, 0)],\n",
              "       [Timestamp('2010-05-01 19:00:00+0000', tz='UTC')],\n",
              "       [45.312096],\n",
              "       [datetime.time(19, 0)],\n",
              "       [Timestamp('2010-05-01 20:00:00+0000', tz='UTC')],\n",
              "       [43.507632],\n",
              "       [datetime.time(20, 0)],\n",
              "       [Timestamp('2010-05-01 21:00:00+0000', tz='UTC')],\n",
              "       [42.079098],\n",
              "       [datetime.time(21, 0)],\n",
              "       [Timestamp('2010-05-01 22:00:00+0000', tz='UTC')],\n",
              "       [41.051556000000005],\n",
              "       [datetime.time(22, 0)],\n",
              "       [Timestamp('2010-05-01 23:00:00+0000', tz='UTC')],\n",
              "       [41.703168000000005],\n",
              "       [datetime.time(23, 0)],\n",
              "       [Timestamp('2010-05-02 00:00:00+0000', tz='UTC')],\n",
              "       [41.076618],\n",
              "       [datetime.time(0, 0)],\n",
              "       [Timestamp('2010-05-02 01:00:00+0000', tz='UTC')],\n",
              "       [40.775874],\n",
              "       [datetime.time(1, 0)],\n",
              "       [Timestamp('2010-05-02 02:00:00+0000', tz='UTC')],\n",
              "       [41.201928],\n",
              "       [datetime.time(2, 0)],\n",
              "       [Timestamp('2010-05-02 03:00:00+0000', tz='UTC')],\n",
              "       [40.650564],\n",
              "       [datetime.time(3, 0)],\n",
              "       [Timestamp('2010-05-02 04:00:00+0000', tz='UTC')],\n",
              "       [40.074138000000005],\n",
              "       [datetime.time(4, 0)],\n",
              "       [Timestamp('2010-05-02 05:00:00+0000', tz='UTC')],\n",
              "       [39.948828000000006],\n",
              "       [datetime.time(5, 0)],\n",
              "       [Timestamp('2010-05-02 06:00:00+0000', tz='UTC')],\n",
              "       [39.247092],\n",
              "       [datetime.time(6, 0)],\n",
              "       [Timestamp('2010-05-02 07:00:00+0000', tz='UTC')],\n",
              "       [38.319798000000006],\n",
              "       [datetime.time(7, 0)],\n",
              "       [Timestamp('2010-05-02 08:00:00+0000', tz='UTC')],\n",
              "       [38.269674],\n",
              "       [datetime.time(8, 0)],\n",
              "       [Timestamp('2010-05-02 09:00:00+0000', tz='UTC')],\n",
              "       [38.21955],\n",
              "       [datetime.time(9, 0)],\n",
              "       [Timestamp('2010-05-02 10:00:00+0000', tz='UTC')],\n",
              "       [38.8461],\n",
              "       [datetime.time(10, 0)],\n",
              "       [Timestamp('2010-05-02 11:00:00+0000', tz='UTC')],\n",
              "       [39.146844],\n",
              "       [datetime.time(11, 0)],\n",
              "       [Timestamp('2010-05-02 12:00:00+0000', tz='UTC')],\n",
              "       [40.725750000000005],\n",
              "       [datetime.time(12, 0)],\n",
              "       [Timestamp('2010-05-02 13:00:00+0000', tz='UTC')],\n",
              "       [40.374882],\n",
              "       [datetime.time(13, 0)],\n",
              "       [Timestamp('2010-05-02 14:00:00+0000', tz='UTC')],\n",
              "       [39.92376600000001],\n",
              "       [datetime.time(14, 0)],\n",
              "       [Timestamp('2010-05-02 15:00:00+0000', tz='UTC')],\n",
              "       [39.773394],\n",
              "       [datetime.time(15, 0)],\n",
              "       [Timestamp('2010-05-02 16:00:00+0000', tz='UTC')],\n",
              "       [41.577858000000006],\n",
              "       [datetime.time(16, 0)],\n",
              "       [Timestamp('2010-05-02 18:00:00+0000', tz='UTC')],\n",
              "       [41.3523],\n",
              "       [datetime.time(18, 0)],\n",
              "       [Timestamp('2010-05-02 19:00:00+0000', tz='UTC')],\n",
              "       [41.126742],\n",
              "       [datetime.time(19, 0)],\n",
              "       [Timestamp('2010-05-02 20:00:00+0000', tz='UTC')],\n",
              "       [40.04907600000001],\n",
              "       [datetime.time(20, 0)],\n",
              "       [Timestamp('2010-05-02 21:00:00+0000', tz='UTC')],\n",
              "       [34.435188000000004],\n",
              "       [datetime.time(21, 0)],\n",
              "       [Timestamp('2010-05-02 22:00:00+0000', tz='UTC')],\n",
              "       [40.725750000000005],\n",
              "       [datetime.time(22, 0)],\n",
              "       [Timestamp('2010-05-02 23:00:00+0000', tz='UTC')],\n",
              "       [39.146844],\n",
              "       [datetime.time(23, 0)],\n",
              "       [Timestamp('2010-05-03 00:00:00+0000', tz='UTC')],\n",
              "       [34.46025],\n",
              "       [datetime.time(0, 0)],\n",
              "       [Timestamp('2010-05-03 01:00:00+0000', tz='UTC')],\n",
              "       [35.136924],\n",
              "       [datetime.time(1, 0)],\n",
              "       [Timestamp('2010-05-03 02:00:00+0000', tz='UTC')],\n",
              "       [34.184568000000006],\n",
              "       [datetime.time(2, 0)],\n",
              "       [Timestamp('2010-05-03 03:00:00+0000', tz='UTC')],\n",
              "       [34.911366],\n",
              "       [datetime.time(3, 0)],\n",
              "       [Timestamp('2010-05-03 04:00:00+0000', tz='UTC')],\n",
              "       [38.670666],\n",
              "       [datetime.time(4, 0)],\n",
              "       [Timestamp('2010-05-03 05:00:00+0000', tz='UTC')],\n",
              "       [29.422788000000004],\n",
              "       [datetime.time(5, 0)],\n",
              "       [Timestamp('2010-05-03 06:00:00+0000', tz='UTC')],\n",
              "       [27.894006],\n",
              "       [datetime.time(6, 0)],\n",
              "       [Timestamp('2010-05-03 07:00:00+0000', tz='UTC')],\n",
              "       [29.422788000000004],\n",
              "       [datetime.time(7, 0)],\n",
              "       [Timestamp('2010-05-03 08:00:00+0000', tz='UTC')],\n",
              "       [31.026756],\n",
              "       [datetime.time(8, 0)],\n",
              "       [Timestamp('2010-05-03 09:00:00+0000', tz='UTC')],\n",
              "       [25.588302],\n",
              "       [datetime.time(9, 0)],\n",
              "       [Timestamp('2010-05-03 10:00:00+0000', tz='UTC')],\n",
              "       [34.485312],\n",
              "       [datetime.time(10, 0)],\n",
              "       [Timestamp('2010-05-03 11:00:00+0000', tz='UTC')],\n",
              "       [40.575378],\n",
              "       [datetime.time(11, 0)],\n",
              "       [Timestamp('2010-05-03 12:00:00+0000', tz='UTC')],\n",
              "       [43.532694],\n",
              "       [datetime.time(12, 0)],\n",
              "       [Timestamp('2010-05-03 13:00:00+0000', tz='UTC')],\n",
              "       [44.61036],\n",
              "       [datetime.time(13, 0)],\n",
              "       [Timestamp('2010-05-03 14:00:00+0000', tz='UTC')],\n",
              "       [33.282336],\n",
              "       [datetime.time(14, 0)],\n",
              "       [Timestamp('2010-05-03 15:00:00+0000', tz='UTC')],\n",
              "       [31.402686],\n",
              "       [datetime.time(15, 0)],\n",
              "       [Timestamp('2010-05-03 16:00:00+0000', tz='UTC')],\n",
              "       [37.21707],\n",
              "       [datetime.time(16, 0)],\n",
              "       [Timestamp('2010-05-03 17:00:00+0000', tz='UTC')],\n",
              "       [36.816078000000005],\n",
              "       [datetime.time(17, 0)],\n",
              "       [Timestamp('2010-05-03 19:00:00+0000', tz='UTC')],\n",
              "       [37.893744],\n",
              "       [datetime.time(19, 0)],\n",
              "       [Timestamp('2010-05-03 20:00:00+0000', tz='UTC')],\n",
              "       [30.45033],\n",
              "       [datetime.time(20, 0)],\n",
              "       [Timestamp('2010-05-03 21:00:00+0000', tz='UTC')],\n",
              "       [35.362482],\n",
              "       [datetime.time(21, 0)],\n",
              "       [Timestamp('2010-05-03 22:00:00+0000', tz='UTC')],\n",
              "       [35.287296000000005],\n",
              "       [datetime.time(22, 0)],\n",
              "       [Timestamp('2010-05-03 23:00:00+0000', tz='UTC')],\n",
              "       [40.04907600000001],\n",
              "       [datetime.time(23, 0)],\n",
              "       [Timestamp('2010-05-04 00:00:00+0000', tz='UTC')],\n",
              "       [43.457508],\n",
              "       [datetime.time(0, 0)],\n",
              "       [Timestamp('2010-05-04 01:00:00+0000', tz='UTC')],\n",
              "       [43.056516],\n",
              "       [datetime.time(1, 0)],\n",
              "       [Timestamp('2010-05-04 02:00:00+0000', tz='UTC')],\n",
              "       [45.036414],\n",
              "       [datetime.time(2, 0)],\n",
              "       [Timestamp('2010-05-04 03:00:00+0000', tz='UTC')],\n",
              "       [43.758252],\n",
              "       [datetime.time(3, 0)],\n",
              "       [Timestamp('2010-05-04 04:00:00+0000', tz='UTC')],\n",
              "       [44.23443],\n",
              "       [datetime.time(4, 0)],\n",
              "       [Timestamp('2010-05-04 05:00:00+0000', tz='UTC')],\n",
              "       [44.660484],\n",
              "       [datetime.time(5, 0)],\n",
              "       [Timestamp('2010-05-04 06:00:00+0000', tz='UTC')],\n",
              "       [43.958748],\n",
              "       [datetime.time(6, 0)],\n",
              "       [Timestamp('2010-05-04 07:00:00+0000', tz='UTC')],\n",
              "       [42.003912],\n",
              "       [datetime.time(7, 0)],\n",
              "       [Timestamp('2010-05-04 08:00:00+0000', tz='UTC')],\n",
              "       [42.555276000000006],\n",
              "       [datetime.time(8, 0)],\n",
              "       [Timestamp('2010-05-04 09:00:00+0000', tz='UTC')],\n",
              "       [41.126742],\n",
              "       [datetime.time(9, 0)],\n",
              "       [Timestamp('2010-05-04 10:00:00+0000', tz='UTC')],\n",
              "       [40.775874],\n",
              "       [datetime.time(10, 0)],\n",
              "       [Timestamp('2010-05-04 11:00:00+0000', tz='UTC')],\n",
              "       [40.926246000000006],\n",
              "       [datetime.time(11, 0)],\n",
              "       [Timestamp('2010-05-04 12:00:00+0000', tz='UTC')],\n",
              "       [42.254532],\n",
              "       [datetime.time(12, 0)],\n",
              "       [Timestamp('2010-05-04 13:00:00+0000', tz='UTC')],\n",
              "       [41.577858000000006],\n",
              "       [datetime.time(13, 0)],\n",
              "       [Timestamp('2010-05-04 14:00:00+0000', tz='UTC')],\n",
              "       [41.277114],\n",
              "       [datetime.time(14, 0)],\n",
              "       [Timestamp('2010-05-04 15:00:00+0000', tz='UTC')],\n",
              "       [42.003912],\n",
              "       [datetime.time(15, 0)],\n",
              "       [Timestamp('2010-05-04 16:00:00+0000', tz='UTC')],\n",
              "       [41.3523],\n",
              "       [datetime.time(16, 0)],\n",
              "       [Timestamp('2010-05-04 17:00:00+0000', tz='UTC')],\n",
              "       [39.497712],\n",
              "       [datetime.time(17, 0)],\n",
              "       [Timestamp('2010-05-04 18:00:00+0000', tz='UTC')],\n",
              "       [38.244612],\n",
              "       [datetime.time(18, 0)],\n",
              "       [Timestamp('2010-05-04 20:00:00+0000', tz='UTC')],\n",
              "       [36.991512],\n",
              "       [datetime.time(20, 0)],\n",
              "       [Timestamp('2010-05-04 21:00:00+0000', tz='UTC')],\n",
              "       [36.490272],\n",
              "       [datetime.time(21, 0)],\n",
              "       [Timestamp('2010-05-04 22:00:00+0000', tz='UTC')],\n",
              "       [36.390024],\n",
              "       [datetime.time(22, 0)],\n",
              "       [Timestamp('2010-05-04 23:00:00+0000', tz='UTC')],\n",
              "       [36.164466],\n",
              "       [datetime.time(23, 0)],\n",
              "       [Timestamp('2010-05-05 00:00:00+0000', tz='UTC')],\n",
              "       [36.390024],\n",
              "       [datetime.time(0, 0)],\n",
              "       [Timestamp('2010-05-05 01:00:00+0000', tz='UTC')],\n",
              "       [35.888784],\n",
              "       [datetime.time(1, 0)],\n",
              "       [Timestamp('2010-05-05 02:00:00+0000', tz='UTC')],\n",
              "       [35.738412],\n",
              "       [datetime.time(2, 0)],\n",
              "       [Timestamp('2010-05-05 03:00:00+0000', tz='UTC')],\n",
              "       [36.59052],\n",
              "       [datetime.time(3, 0)],\n",
              "       [Timestamp('2010-05-05 04:00:00+0000', tz='UTC')],\n",
              "       [37.367442],\n",
              "       [datetime.time(4, 0)],\n",
              "       [Timestamp('2010-05-05 05:00:00+0000', tz='UTC')],\n",
              "       [37.793496000000005],\n",
              "       [datetime.time(5, 0)],\n",
              "       [Timestamp('2010-05-05 06:00:00+0000', tz='UTC')],\n",
              "       [37.417566],\n",
              "       [datetime.time(6, 0)],\n",
              "       [Timestamp('2010-05-05 07:00:00+0000', tz='UTC')],\n",
              "       [37.868682],\n",
              "       [datetime.time(7, 0)],\n",
              "       [Timestamp('2010-05-05 08:00:00+0000', tz='UTC')],\n",
              "       [38.520294],\n",
              "       [datetime.time(8, 0)]], dtype=object)"
            ]
          },
          "metadata": {},
          "execution_count": 75
        }
      ]
    },
    {
      "cell_type": "code",
      "source": [],
      "metadata": {
        "id": "yPF0FCJrO5_n"
      },
      "id": "yPF0FCJrO5_n",
      "execution_count": null,
      "outputs": []
    },
    {
      "cell_type": "code",
      "source": [
        "import pandas as pd\n",
        "import numpy as np\n",
        "import matplotlib.pyplot as plt\n",
        "from sklearn.preprocessing import MinMaxScaler\n",
        "\n",
        "# Assuming you have the time series data stored in a DataFrame called 'data'\n",
        "\n",
        "# Extract the values from the 'value' column as a NumPy array\n",
        "values = data['value'].values\n",
        "\n",
        "# Normalize the values to a range between 0 and 1\n",
        "scaler = MinMaxScaler()\n",
        "normalized_values = scaler.fit_transform(values.reshape(-1, 1))\n",
        "\n",
        "# Create input sequence for prediction\n",
        "def create_input_sequence(data, time_steps):\n",
        "    sequence = data[-time_steps:]  # Take the last 'time_steps' values as input\n",
        "    return np.array(sequence).reshape(1, -1, 1)\n",
        "\n",
        "# Define the number of future points to forecast\n",
        "future_steps = 3\n",
        "time_steps = 3\n",
        "\n",
        "# Create input sequence for prediction using the last 'time_steps' values\n",
        "input_sequence = create_input_sequence(normalized_values, 9)\n",
        "print('input_sequence',input_sequence)\n",
        "# Generate the forecast for future points\n",
        "forecast_0 = model.predict(input_sequence)\n",
        "forecast_1 = model.predict(input_sequence)\n",
        "forecast_2 = model.predict(input_sequence)\n",
        "\n",
        "print('forecast_0',forecast_0)\n",
        "print('forecast_1',forecast_1)\n",
        "print('forecast_2',forecast_2)\n",
        "\n",
        "\n",
        "# Inverse transform the normalized forecast to the original scale\n",
        "forecast = scaler.inverse_transform(forecast_0)\n",
        "print('forecast',forecast)\n",
        "# Generate future dates for the forecasted points\n",
        "last_date = data['datetime'].iloc[-1]\n",
        "print('last_date',last_date)\n",
        "future_dates = pd.date_range(last_date, freq = '1H', periods=future_steps, closed='right')\n",
        "print('future_dates',future_dates)\n",
        "# Concatenate the original dates and the future dates\n",
        "all_dates = pd.concat([data['datetime'], pd.Series(future_dates)])\n",
        "print('all_dates.head()',all_dates.head())\n",
        "print('all_dates.tail()',all_dates.tail())\n",
        "\n",
        "\n"
      ],
      "metadata": {
        "colab": {
          "base_uri": "https://localhost:8080/"
        },
        "id": "sIJzQzVtP0S3",
        "outputId": "932f721a-febf-41d9-c3f3-7ffbb3c54b32"
      },
      "id": "sIJzQzVtP0S3",
      "execution_count": 76,
      "outputs": [
        {
          "output_type": "stream",
          "name": "stdout",
          "text": [
            "input_sequence [[[0.57906977]\n",
            "  [0.55581395]\n",
            "  [0.54883721]\n",
            "  [0.58837209]\n",
            "  [0.6244186 ]\n",
            "  [0.64418605]\n",
            "  [0.62674419]\n",
            "  [0.64767442]\n",
            "  [0.67790698]]]\n",
            "1/1 [==============================] - 0s 410ms/step\n",
            "1/1 [==============================] - 0s 31ms/step\n",
            "1/1 [==============================] - 0s 23ms/step\n",
            "forecast_0 [[0.6286516]]\n",
            "forecast_1 [[0.6286516]]\n",
            "forecast_2 [[0.6286516]]\n",
            "forecast [[37.458675]]\n",
            "last_date 2010-05-05 08:00:00+00:00\n",
            "future_dates DatetimeIndex(['2010-05-05 09:00:00+00:00', '2010-05-05 10:00:00+00:00'], dtype='datetime64[ns, UTC]', freq='H')\n",
            "all_dates.head() 0   2010-05-01 00:00:00+00:00\n",
            "1   2010-05-01 01:00:00+00:00\n",
            "2   2010-05-01 02:00:00+00:00\n",
            "3   2010-05-01 03:00:00+00:00\n",
            "4   2010-05-01 04:00:00+00:00\n",
            "dtype: datetime64[ns, UTC]\n",
            "all_dates.tail() 98    2010-05-05 06:00:00+00:00\n",
            "99    2010-05-05 07:00:00+00:00\n",
            "100   2010-05-05 08:00:00+00:00\n",
            "0     2010-05-05 09:00:00+00:00\n",
            "1     2010-05-05 10:00:00+00:00\n",
            "dtype: datetime64[ns, UTC]\n"
          ]
        },
        {
          "output_type": "stream",
          "name": "stderr",
          "text": [
            "<ipython-input-76-40674a23227e>:43: FutureWarning: Argument `closed` is deprecated in favor of `inclusive`.\n",
            "  future_dates = pd.date_range(last_date, freq = '1H', periods=future_steps, closed='right')\n"
          ]
        }
      ]
    },
    {
      "cell_type": "code",
      "source": [
        "# Extend the forecast array to match the length of all_dates\n",
        "forecast_extended = np.concatenate([values[-1:], forecast.flatten()])\n",
        "print('values[-1]',values[-1:])\n",
        "print('forecast_extended=np.concatenate([values[-1:], forecast.flatten()]): ',forecast_extended)\n",
        "# Plot the actual values and the forecasted values\n",
        "plt.plot(all_dates[:len(values)], values,label='Actual')\n",
        "plt.plot(all_dates[len(values):], forecast_extended,'r+', label='Forecast')\n",
        "\n",
        "plt.xlabel('Time')\n",
        "plt.ylabel('Temperature')\n",
        "plt.legend()\n",
        "plt.show()"
      ],
      "metadata": {
        "colab": {
          "base_uri": "https://localhost:8080/",
          "height": 484
        },
        "id": "OEu0sbB-P8zp",
        "outputId": "9dd08702-8458-4c4b-eca0-94d91e03cd4e"
      },
      "id": "OEu0sbB-P8zp",
      "execution_count": 77,
      "outputs": [
        {
          "output_type": "stream",
          "name": "stdout",
          "text": [
            "values[-1] [38.520294]\n",
            "forecast_extended=np.concatenate([values[-1:], forecast.flatten()]):  [38.520294   37.45867538]\n"
          ]
        },
        {
          "output_type": "display_data",
          "data": {
            "text/plain": [
              "<Figure size 640x480 with 1 Axes>"
            ],
            "image/png": "[encoded data removed]"
          },
          "metadata": {}
        }
      ]
    },
    {
      "cell_type": "code",
      "source": [
        "import pandas as pd\n",
        "import matplotlib.pyplot as plt\n",
        "\n",
        "# Sample data\n",
        "#data = {\n",
        "#    'datetime': ['2010-05-01 00:00:00+00:00', '2010-05-01 01:00:00+00:00', '2010-05-01 02:00:00+00:00', '2010-05-01 03:00:00+00:00', '2010-05-01 04:00:00+00:00'],\n",
        "#    'value': [8.20, 8.25, 8.60, 8.80, 8.90]\n",
        "#}\n",
        "\n",
        "# Create a DataFrame from the data\n",
        "\n",
        "df = pd.DataFrame(data)\n",
        "\n",
        "# Convert the 'datetime' column to datetime data type\n",
        "df['datetime'] = pd.to_datetime(df['datetime'])\n",
        "\n",
        "# Extract the time from the 'datetime' column\n",
        "df['time'] = df['datetime'].dt.time\n",
        "\n",
        "\n",
        "# Generate future dates for the forecasted points\n",
        "last_date = df['datetime'].iloc[-1]\n",
        "print(last_date)\n",
        "future_dates = pd.date_range(last_date, freq='1H',periods=4, closed='right')\n",
        "print(future_dates)\n",
        "print(type(future_dates))\n",
        "print(type(df))\n",
        "# Concatenate the original dates and the future dates\n",
        "all_dates = pd.concat([df['datetime'], pd.Series(future_dates)])\n",
        "\n",
        "\n",
        "\n",
        "# 1st Normalize the values to a range between 0 and 1\n",
        "scaler = MinMaxScaler()\n",
        "normalized_values = scaler.fit_transform(values.reshape(-1, 1))\n",
        "# Create input sequence for prediction using the last 'time_steps' values\n",
        "input_sequence = create_input_sequence(normalized_values, 10)\n",
        "print('input_sequence',input_sequence)\n",
        "# Generate the forecast for future points\n",
        "forecast_norm = model.predict(input_sequence)\n",
        "print('forecast_norm',forecast_norm)\n",
        "# Inverse transform the normalized forecast to the original scale\n",
        "forecast_1 = scaler.inverse_transform(forecast_norm)\n",
        "print('forecast from 20 last steps',forecast_1)\n",
        "\n",
        "\n",
        "# 2nd Normalize the values to a range between 0 and 1\n",
        "print(forecast_1)\n",
        "values_new = np.concatenate((values,forecast_1[0]))\n",
        "scaler = MinMaxScaler()\n",
        "normalized_values = scaler.fit_transform(values_new.reshape(-1, 1))\n",
        "# Create input sequence for prediction using the last 'time_steps' values\n",
        "input_sequence = create_input_sequence(normalized_values, 10)\n",
        "print('input_sequence',input_sequence)\n",
        "# Generate the forecast for future points\n",
        "forecast_norm = model.predict(input_sequence)\n",
        "print('forecast_norm',forecast_norm)\n",
        "# Inverse transform the normalized forecast to the original scale\n",
        "forecast_2 = scaler.inverse_transform(forecast_norm)\n",
        "print('forecast from 20 last steps',forecast_2)\n",
        "\n",
        "# 3rd Normalize the values to a range between 0 and 1\n",
        "values_3 = np.concatenate((values_new,forecast_2[0]))\n",
        "scaler = MinMaxScaler()\n",
        "normalized_values = scaler.fit_transform(values_3.reshape(-1, 1))\n",
        "# Create input sequence for prediction using the last 'time_steps' values\n",
        "input_sequence = create_input_sequence(normalized_values, 10)\n",
        "print('input_sequence',input_sequence)\n",
        "# Generate the forecast for future points\n",
        "forecast_norm = model.predict(input_sequence)\n",
        "print('forecast_norm',forecast_norm)\n",
        "# Inverse transform the normalized forecast to the original scale\n",
        "forecast_3 = scaler.inverse_transform(forecast_norm)\n",
        "print('forecast from last steps',forecast_3)\n",
        "\n",
        "\n",
        "\n",
        "# Extend the forecast array to match the length of all_dates\n",
        "forecast_extended = np.concatenate([forecast_1.flatten(),forecast_2.flatten(),forecast_3.flatten()])\n",
        "\n",
        "print('df',df)\n",
        "print('len(df)',len(df))\n",
        "print('type(df)',type(df))\n",
        "print('all_dates',all_dates)\n",
        "print('len(all_dates)',len(all_dates))\n",
        "print('type(all_dates)',type(all_dates))\n",
        "print('forecast_extended',forecast_extended)\n",
        "print('len(forecast_extended)',len(forecast_extended))\n",
        "print('type(forecast_extended)',type(forecast_extended))\n",
        "\n",
        "# Calculate the difference between RNN forecast and Observation data to get MAE and RMSE for forecast\n",
        "\n",
        "print(type(forecast_extended))\n",
        "print(type(df))\n",
        "val_forecast = forecast_extended\n",
        "val_data_forecast = data_forecast['value'].values\n",
        "print('val_forecast ',val_forecast)\n",
        "print('val_data_forecast ',val_data_forecast)\n",
        "\n",
        "\n",
        "\n",
        "mse = mean_squared_error(val_forecast, val_data_forecast)\n",
        "rmse = np.sqrt(mse)\n",
        "print('MAE', np.sum(val_forecast-val_data_forecast))\n",
        "print('MSE:', mse)\n",
        "print(\"RMSE:\", rmse)\n",
        "\n",
        "\n",
        "# Plotting\n",
        "plt.plot(df['datetime'], df['value'],label='Historical T data')\n",
        "plt.plot(future_dates, forecast_extended,'r+',label='Forecast')\n",
        "plt.xlabel('Datetime')\n",
        "plt.ylabel('Value')\n",
        "plt.title('Forecast of Ozone for 3 next hours 09:00-11:00')\n",
        "plt.xticks(rotation=90)\n",
        "plt.grid(True)\n",
        "plt.show()\n"
      ],
      "metadata": {
        "colab": {
          "base_uri": "https://localhost:8080/",
          "height": 1000
        },
        "id": "dUBFCM2KaAOp",
        "outputId": "e0279ab4-65b8-4630-b00c-7863f80ca90b"
      },
      "id": "dUBFCM2KaAOp",
      "execution_count": 78,
      "outputs": [
        {
          "output_type": "stream",
          "name": "stdout",
          "text": [
            "2010-05-05 08:00:00+00:00\n",
            "DatetimeIndex(['2010-05-05 09:00:00+00:00', '2010-05-05 10:00:00+00:00',\n",
            "               '2010-05-05 11:00:00+00:00'],\n",
            "              dtype='datetime64[ns, UTC]', freq='H')\n",
            "<class 'pandas.core.indexes.datetimes.DatetimeIndex'>\n",
            "<class 'pandas.core.frame.DataFrame'>\n",
            "input_sequence [[[0.56860465]\n",
            "  [0.57906977]\n",
            "  [0.55581395]\n",
            "  [0.54883721]\n",
            "  [0.58837209]\n",
            "  [0.6244186 ]\n",
            "  [0.64418605]\n",
            "  [0.62674419]\n",
            "  [0.64767442]\n",
            "  [0.67790698]]]\n",
            "1/1 [==============================] - 0s 22ms/step\n",
            "forecast_norm [[0.63590574]]\n",
            "forecast from 20 last steps [[37.61503]]\n",
            "[[37.61503]]\n",
            "input_sequence [[[0.57906977]\n",
            "  [0.55581395]\n",
            "  [0.54883721]\n",
            "  [0.58837209]\n",
            "  [0.6244186 ]\n",
            "  [0.64418605]\n",
            "  [0.62674419]\n",
            "  [0.64767442]\n",
            "  [0.67790698]\n",
            "  [0.63590576]]]\n",
            "1/1 [==============================] - 0s 23ms/step\n",
            "forecast_norm [[0.6424869]]\n",
            "forecast from 20 last steps [[37.756874]]\n",
            "input_sequence [[[0.55581395]\n",
            "  [0.54883721]\n",
            "  [0.58837209]\n",
            "  [0.6244186 ]\n",
            "  [0.64418605]\n",
            "  [0.62674419]\n",
            "  [0.64767442]\n",
            "  [0.67790698]\n",
            "  [0.63590576]\n",
            "  [0.64248692]]]\n"
          ]
        },
        {
          "output_type": "stream",
          "name": "stderr",
          "text": [
            "<ipython-input-78-748b1f227919>:24: FutureWarning: Argument `closed` is deprecated in favor of `inclusive`.\n",
            "  future_dates = pd.date_range(last_date, freq='1H',periods=4, closed='right')\n"
          ]
        },
        {
          "output_type": "stream",
          "name": "stdout",
          "text": [
            "1/1 [==============================] - 0s 28ms/step\n",
            "forecast_norm [[0.6467319]]\n",
            "forecast from last steps [[37.84837]]\n",
            "df                      datetime      value      time\n",
            "0   2010-05-01 00:00:00+00:00  34.560498  00:00:00\n",
            "1   2010-05-01 01:00:00+00:00  31.578120  01:00:00\n",
            "2   2010-05-01 02:00:00+00:00  23.909148  02:00:00\n",
            "3   2010-05-01 03:00:00+00:00  24.961752  03:00:00\n",
            "4   2010-05-01 04:00:00+00:00  35.237172  04:00:00\n",
            "..                        ...        ...       ...\n",
            "96  2010-05-05 04:00:00+00:00  37.367442  04:00:00\n",
            "97  2010-05-05 05:00:00+00:00  37.793496  05:00:00\n",
            "98  2010-05-05 06:00:00+00:00  37.417566  06:00:00\n",
            "99  2010-05-05 07:00:00+00:00  37.868682  07:00:00\n",
            "100 2010-05-05 08:00:00+00:00  38.520294  08:00:00\n",
            "\n",
            "[101 rows x 3 columns]\n",
            "len(df) 101\n",
            "type(df) <class 'pandas.core.frame.DataFrame'>\n",
            "all_dates 0     2010-05-01 00:00:00+00:00\n",
            "1     2010-05-01 01:00:00+00:00\n",
            "2     2010-05-01 02:00:00+00:00\n",
            "3     2010-05-01 03:00:00+00:00\n",
            "4     2010-05-01 04:00:00+00:00\n",
            "                 ...           \n",
            "99    2010-05-05 07:00:00+00:00\n",
            "100   2010-05-05 08:00:00+00:00\n",
            "0     2010-05-05 09:00:00+00:00\n",
            "1     2010-05-05 10:00:00+00:00\n",
            "2     2010-05-05 11:00:00+00:00\n",
            "Length: 104, dtype: datetime64[ns, UTC]\n",
            "len(all_dates) 104\n",
            "type(all_dates) <class 'pandas.core.series.Series'>\n",
            "forecast_extended [37.61503  37.756874 37.84837 ]\n",
            "len(forecast_extended) 3\n",
            "type(forecast_extended) <class 'numpy.ndarray'>\n",
            "<class 'numpy.ndarray'>\n",
            "<class 'pandas.core.frame.DataFrame'>\n",
            "val_forecast  [37.61503  37.756874 37.84837 ]\n",
            "val_data_forecast  [39.34734  40.675626 44.384802]\n",
            "MAE -11.18749593579102\n",
            "MSE: 18.081654943115634\n",
            "RMSE: 4.2522529255814066\n"
          ]
        },
        {
          "output_type": "display_data",
          "data": {
            "text/plain": [
              "<Figure size 640x480 with 1 Axes>"
            ],
            "image/png": "[encoded data removed]"
          },
          "metadata": {}
        }
      ]
    },
    {
      "cell_type": "code",
      "source": [],
      "metadata": {
        "id": "eMZhj311kLwx"
      },
      "id": "eMZhj311kLwx",
      "execution_count": null,
      "outputs": []
    }
  ],
  "metadata": {
    "kernelspec": {
      "display_name": "Python 3",
      "language": "python",
      "name": "python3"
    },
    "language_info": {
      "codemirror_mode": {
        "name": "ipython",
        "version": 3
      },
      "file_extension": ".py",
      "mimetype": "text/x-python",
      "name": "python",
      "nbconvert_exporter": "python",
      "pygments_lexer": "ipython3",
      "version": "3.6.12"
    },
    "colab": {
      "provenance": [],
      "include_colab_link": true
    }
  },
  "nbformat": 4,
  "nbformat_minor": 5
}